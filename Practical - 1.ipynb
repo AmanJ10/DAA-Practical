{
 "cells": [
  {
   "cell_type": "markdown",
   "id": "82c62a4d",
   "metadata": {},
   "source": [
    "# DAA Lab - Practical - 1\n",
    "## Name : Aman Joharapurkar \n",
    "## Roll No : A-32\n",
    "\n",
    "### Aim :\n",
    "Write a program read the file and find Minimum and Maximum using Brute force approach. Also propose\n",
    "and implement an improved algorithm based on Divide and Conquer Strategy.\n",
    "Also calculate the time taken by both the algotihm.\n",
    "\n",
    "Compute the time complexity of      \n",
    "i) Brute force algorithm     \n",
    "ii) Divide and Conquer based algorithm      \n",
    "iii) Plot a graph to show the time comparison between algorithms\n",
    "\n",
    "\n"
   ]
  },
  {
   "cell_type": "code",
   "execution_count": 272,
   "id": "a9087bb5",
   "metadata": {},
   "outputs": [],
   "source": [
    "import os\n",
    "import pandas as pd\n",
    "import numpy as np\n",
    "from matplotlib import pyplot as plt\n",
    "import time"
   ]
  },
  {
   "cell_type": "code",
   "execution_count": 273,
   "id": "9d282029",
   "metadata": {},
   "outputs": [],
   "source": [
    "def MaxMin(A,n):\n",
    "    max_v = A[0]\n",
    "    min_v = A[0]\n",
    "    for i in range (1,n):\n",
    "        if A[i] > max_v :\n",
    "            max_v = A[i]\n",
    "        elif A[i] < min_v :\n",
    "            min_v = A[i]\n",
    "            \n",
    "    return max_v,min_v"
   ]
  },
  {
   "cell_type": "code",
   "execution_count": 274,
   "id": "f1abe526",
   "metadata": {},
   "outputs": [],
   "source": [
    "def MaxMinDAC(A, left, right):\n",
    "    if left == right:\n",
    "        return [A[left], A[right]]\n",
    "    \n",
    "    elif left + 1 == right:\n",
    "        if A[left] > A[right]:\n",
    "            return [A[left], A[right]]\n",
    "        else:\n",
    "            return [A[right], A[left]]\n",
    "        \n",
    "    else:\n",
    "        middle = (left + right) // 2\n",
    "        left_max_min = MaxMinDAC(A, left, middle)\n",
    "        right_max_min = MaxMinDAC(A, middle + 1, right)\n",
    "        \n",
    "        max_value = max(left_max_min[0], right_max_min[0])\n",
    "        min_value = min(left_max_min[1], right_max_min[1])\n",
    "        \n",
    "        return [max_value, min_value]"
   ]
  },
  {
   "cell_type": "markdown",
   "id": "dcefbfe3",
   "metadata": {},
   "source": [
    "### For test1.csv :"
   ]
  },
  {
   "cell_type": "code",
   "execution_count": 317,
   "id": "a40b259f",
   "metadata": {},
   "outputs": [],
   "source": [
    "df = pd.read_csv('test1.csv')"
   ]
  },
  {
   "cell_type": "code",
   "execution_count": 318,
   "id": "dd9e5280",
   "metadata": {},
   "outputs": [
    {
     "data": {
      "text/html": [
       "<div>\n",
       "<style scoped>\n",
       "    .dataframe tbody tr th:only-of-type {\n",
       "        vertical-align: middle;\n",
       "    }\n",
       "\n",
       "    .dataframe tbody tr th {\n",
       "        vertical-align: top;\n",
       "    }\n",
       "\n",
       "    .dataframe thead th {\n",
       "        text-align: right;\n",
       "    }\n",
       "</style>\n",
       "<table border=\"1\" class=\"dataframe\">\n",
       "  <thead>\n",
       "    <tr style=\"text-align: right;\">\n",
       "      <th></th>\n",
       "      <th>Date</th>\n",
       "      <th>Open</th>\n",
       "      <th>High</th>\n",
       "      <th>Low</th>\n",
       "      <th>val</th>\n",
       "      <th>Volume</th>\n",
       "    </tr>\n",
       "  </thead>\n",
       "  <tbody>\n",
       "    <tr>\n",
       "      <th>0</th>\n",
       "      <td>09-01-2022</td>\n",
       "      <td>35.20</td>\n",
       "      <td>36.18</td>\n",
       "      <td>35.07</td>\n",
       "      <td>35.66</td>\n",
       "      <td>92,505</td>\n",
       "    </tr>\n",
       "    <tr>\n",
       "      <th>1</th>\n",
       "      <td>08/31/2022</td>\n",
       "      <td>36.65</td>\n",
       "      <td>36.87</td>\n",
       "      <td>35.04</td>\n",
       "      <td>35.41</td>\n",
       "      <td>2,04,807</td>\n",
       "    </tr>\n",
       "    <tr>\n",
       "      <th>2</th>\n",
       "      <td>08/30/2022</td>\n",
       "      <td>37.13</td>\n",
       "      <td>37.13</td>\n",
       "      <td>36.38</td>\n",
       "      <td>36.43</td>\n",
       "      <td>1,13,552</td>\n",
       "    </tr>\n",
       "    <tr>\n",
       "      <th>3</th>\n",
       "      <td>08/29/2022</td>\n",
       "      <td>37.10</td>\n",
       "      <td>37.30</td>\n",
       "      <td>36.66</td>\n",
       "      <td>37.01</td>\n",
       "      <td>64,626</td>\n",
       "    </tr>\n",
       "    <tr>\n",
       "      <th>4</th>\n",
       "      <td>08/26/2022</td>\n",
       "      <td>38.03</td>\n",
       "      <td>38.36</td>\n",
       "      <td>37.43</td>\n",
       "      <td>37.52</td>\n",
       "      <td>87,895</td>\n",
       "    </tr>\n",
       "  </tbody>\n",
       "</table>\n",
       "</div>"
      ],
      "text/plain": [
       "         Date   Open   High    Low    val    Volume\n",
       "0  09-01-2022  35.20  36.18  35.07  35.66    92,505\n",
       "1  08/31/2022  36.65  36.87  35.04  35.41  2,04,807\n",
       "2  08/30/2022  37.13  37.13  36.38  36.43  1,13,552\n",
       "3  08/29/2022  37.10  37.30  36.66  37.01    64,626\n",
       "4  08/26/2022  38.03  38.36  37.43  37.52    87,895"
      ]
     },
     "execution_count": 318,
     "metadata": {},
     "output_type": "execute_result"
    }
   ],
   "source": [
    "df.head()"
   ]
  },
  {
   "cell_type": "markdown",
   "id": "0ad3c7de",
   "metadata": {},
   "source": [
    "### Aim : To calculate maximum and minimum volume in the above data set by $Brute Force$ Approach"
   ]
  },
  {
   "cell_type": "code",
   "execution_count": 319,
   "id": "5f9c56c9",
   "metadata": {},
   "outputs": [],
   "source": [
    "volume = df.iloc[:,-1]"
   ]
  },
  {
   "cell_type": "code",
   "execution_count": 320,
   "id": "58357081",
   "metadata": {},
   "outputs": [
    {
     "name": "stdout",
     "output_type": "stream",
     "text": [
      "0       92,505\n",
      "1     2,04,807\n",
      "2     1,13,552\n",
      "3       64,626\n",
      "4       87,895\n",
      "5       46,951\n",
      "6       70,144\n",
      "7       71,610\n",
      "8     1,05,002\n",
      "9     1,18,481\n",
      "10      69,637\n",
      "11    1,27,201\n",
      "12    1,24,722\n",
      "13    1,75,105\n",
      "14      86,967\n",
      "15      85,721\n",
      "16    1,08,353\n",
      "17      72,583\n",
      "18    1,64,875\n",
      "19    1,84,548\n",
      "20    1,43,977\n",
      "21    1,89,742\n",
      "22    2,33,698\n",
      "Name: Volume, dtype: object\n"
     ]
    }
   ],
   "source": [
    "print(volume)"
   ]
  },
  {
   "cell_type": "code",
   "execution_count": 328,
   "id": "63a3e4b1",
   "metadata": {},
   "outputs": [
    {
     "name": "stdout",
     "output_type": "stream",
     "text": [
      "['92,505' '2,04,807' '1,13,552' '64,626' '87,895' '46,951' '70,144'\n",
      " '71,610' '1,05,002' '1,18,481' '69,637' '1,27,201' '1,24,722' '1,75,105'\n",
      " '86,967' '85,721' '1,08,353' '72,583' '1,64,875' '1,84,548' '1,43,977'\n",
      " '1,89,742' '2,33,698']\n"
     ]
    }
   ],
   "source": [
    "a = np.array(volume)\n",
    "print(a)\n",
    "volume_data = [int(s.replace(',', '')) for s in volume]"
   ]
  },
  {
   "cell_type": "code",
   "execution_count": 322,
   "id": "56721eb1",
   "metadata": {
    "scrolled": false
   },
   "outputs": [
    {
     "name": "stdout",
     "output_type": "stream",
     "text": [
      "[92505, 204807, 113552, 64626, 87895, 46951, 70144, 71610, 105002, 118481, 69637, 127201, 124722, 175105, 86967, 85721, 108353, 72583, 164875, 184548, 143977, 189742, 233698]\n"
     ]
    }
   ],
   "source": [
    "print(volume_data)"
   ]
  },
  {
   "cell_type": "code",
   "execution_count": 323,
   "id": "9a6b0cd7",
   "metadata": {
    "scrolled": true
   },
   "outputs": [
    {
     "name": "stdout",
     "output_type": "stream",
     "text": [
      "Minimum Volume is : 46951, Maximum Volume is : 233698\n"
     ]
    }
   ],
   "source": [
    "max_val,min_val = MaxMin(volume_data,len(volume_data))\n",
    "print(f\"Minimum Volume is : {min_val}, Maximum Volume is : {max_val}\")"
   ]
  },
  {
   "cell_type": "code",
   "execution_count": 324,
   "id": "ad3b4b2d",
   "metadata": {},
   "outputs": [
    {
     "name": "stdout",
     "output_type": "stream",
     "text": [
      "The time required for Brute Force approach is 0.0002106999745592475\n"
     ]
    }
   ],
   "source": [
    "start = time.perf_counter()\n",
    "MaxMin(volume_data,len(volume_data))\n",
    "end = time.perf_counter()\n",
    "timetaken_br1 = end - start\n",
    "print(\"The time required for Brute Force approach is\" ,timetaken_br1)"
   ]
  },
  {
   "cell_type": "markdown",
   "id": "d61b4e5e",
   "metadata": {},
   "source": [
    "### Now To calculate maximum and minimum volume in the above data set by $Divide and Conquer$ Approach"
   ]
  },
  {
   "cell_type": "code",
   "execution_count": 325,
   "id": "302ad86f",
   "metadata": {},
   "outputs": [
    {
     "name": "stdout",
     "output_type": "stream",
     "text": [
      "Maximum Volume: 233698, Minimum Volume: 46951\n"
     ]
    }
   ],
   "source": [
    "end_index = len(volume_data) - 1\n",
    "ans = MaxMinDAC(volume_data,0,end_index)\n",
    "print(f\"Maximum Volume: {ans[0]}, Minimum Volume: {ans[1]}\")"
   ]
  },
  {
   "cell_type": "code",
   "execution_count": 326,
   "id": "81fae648",
   "metadata": {},
   "outputs": [
    {
     "name": "stdout",
     "output_type": "stream",
     "text": [
      "The time required for DAC is 0.0001821999903768301\n"
     ]
    }
   ],
   "source": [
    "start = time.perf_counter()\n",
    "MaxMinDAC(volume_data,0,end_index)\n",
    "end = time.perf_counter()\n",
    "timetaken_dac1 = end-start\n",
    "print(\"The time required for DAC is\" ,timetaken_dac1)"
   ]
  },
  {
   "cell_type": "code",
   "execution_count": 327,
   "id": "d928b245",
   "metadata": {},
   "outputs": [
    {
     "data": {
      "image/png": "[encoded data removed]",
      "text/plain": [
       "<Figure size 800x600 with 1 Axes>"
      ]
     },
     "metadata": {},
     "output_type": "display_data"
    }
   ],
   "source": [
    "algo = ['Brute Force', 'Divide and Conquer']\n",
    "times = [timetaken_br1, timetaken_dac1]\n",
    "plt.figure(figsize=(8, 6))\n",
    "plt.bar(algo, times, color=['blue', 'green'])\n",
    "plt.ylabel('Time (seconds)')\n",
    "plt.title('Time Comparison Between Brute Force & Divide and Conquer')\n",
    "plt.show()"
   ]
  },
  {
   "cell_type": "markdown",
   "id": "f8b478c0",
   "metadata": {},
   "source": [
    "### For test2.csv"
   ]
  },
  {
   "cell_type": "code",
   "execution_count": 286,
   "id": "2d74fed6",
   "metadata": {},
   "outputs": [
    {
     "data": {
      "text/html": [
       "<div>\n",
       "<style scoped>\n",
       "    .dataframe tbody tr th:only-of-type {\n",
       "        vertical-align: middle;\n",
       "    }\n",
       "\n",
       "    .dataframe tbody tr th {\n",
       "        vertical-align: top;\n",
       "    }\n",
       "\n",
       "    .dataframe thead th {\n",
       "        text-align: right;\n",
       "    }\n",
       "</style>\n",
       "<table border=\"1\" class=\"dataframe\">\n",
       "  <thead>\n",
       "    <tr style=\"text-align: right;\">\n",
       "      <th></th>\n",
       "      <th>key</th>\n",
       "      <th>fare_amount</th>\n",
       "      <th>pickup_datetime</th>\n",
       "      <th>val</th>\n",
       "      <th>pickup_latitude</th>\n",
       "      <th>dropoff_longitude</th>\n",
       "      <th>dropoff_latitude</th>\n",
       "      <th>passenger_count</th>\n",
       "    </tr>\n",
       "  </thead>\n",
       "  <tbody>\n",
       "    <tr>\n",
       "      <th>0</th>\n",
       "      <td>26:21.0</td>\n",
       "      <td>4.5</td>\n",
       "      <td>2009-06-15 17:26:21 UTC</td>\n",
       "      <td>-73.844311</td>\n",
       "      <td>40.721319</td>\n",
       "      <td>-73.841610</td>\n",
       "      <td>40.712278</td>\n",
       "      <td>1</td>\n",
       "    </tr>\n",
       "    <tr>\n",
       "      <th>1</th>\n",
       "      <td>52:16.0</td>\n",
       "      <td>16.9</td>\n",
       "      <td>2010-01-05 16:52:16 UTC</td>\n",
       "      <td>-74.016048</td>\n",
       "      <td>40.711303</td>\n",
       "      <td>-73.979268</td>\n",
       "      <td>40.782004</td>\n",
       "      <td>1</td>\n",
       "    </tr>\n",
       "    <tr>\n",
       "      <th>2</th>\n",
       "      <td>35:00.0</td>\n",
       "      <td>5.7</td>\n",
       "      <td>2011-08-18 00:35:00 UTC</td>\n",
       "      <td>-73.982738</td>\n",
       "      <td>40.761270</td>\n",
       "      <td>-73.991242</td>\n",
       "      <td>40.750562</td>\n",
       "      <td>2</td>\n",
       "    </tr>\n",
       "    <tr>\n",
       "      <th>3</th>\n",
       "      <td>30:42.0</td>\n",
       "      <td>7.7</td>\n",
       "      <td>2012-04-21 04:30:42 UTC</td>\n",
       "      <td>-73.987130</td>\n",
       "      <td>40.733143</td>\n",
       "      <td>-73.991567</td>\n",
       "      <td>40.758092</td>\n",
       "      <td>1</td>\n",
       "    </tr>\n",
       "    <tr>\n",
       "      <th>4</th>\n",
       "      <td>51:00.0</td>\n",
       "      <td>5.3</td>\n",
       "      <td>2010-03-09 07:51:00 UTC</td>\n",
       "      <td>-73.968095</td>\n",
       "      <td>40.768008</td>\n",
       "      <td>-73.956655</td>\n",
       "      <td>40.783762</td>\n",
       "      <td>1</td>\n",
       "    </tr>\n",
       "  </tbody>\n",
       "</table>\n",
       "</div>"
      ],
      "text/plain": [
       "       key  fare_amount          pickup_datetime        val  pickup_latitude  \\\n",
       "0  26:21.0          4.5  2009-06-15 17:26:21 UTC -73.844311        40.721319   \n",
       "1  52:16.0         16.9  2010-01-05 16:52:16 UTC -74.016048        40.711303   \n",
       "2  35:00.0          5.7  2011-08-18 00:35:00 UTC -73.982738        40.761270   \n",
       "3  30:42.0          7.7  2012-04-21 04:30:42 UTC -73.987130        40.733143   \n",
       "4  51:00.0          5.3  2010-03-09 07:51:00 UTC -73.968095        40.768008   \n",
       "\n",
       "   dropoff_longitude  dropoff_latitude  passenger_count  \n",
       "0         -73.841610         40.712278                1  \n",
       "1         -73.979268         40.782004                1  \n",
       "2         -73.991242         40.750562                2  \n",
       "3         -73.991567         40.758092                1  \n",
       "4         -73.956655         40.783762                1  "
      ]
     },
     "execution_count": 286,
     "metadata": {},
     "output_type": "execute_result"
    }
   ],
   "source": [
    "df1 = pd.read_csv('test2.csv')\n",
    "df1.head()"
   ]
  },
  {
   "cell_type": "code",
   "execution_count": 287,
   "id": "da6e6dba",
   "metadata": {},
   "outputs": [
    {
     "data": {
      "text/plain": [
       "0           4.5\n",
       "1          16.9\n",
       "2           5.7\n",
       "3           7.7\n",
       "4           5.3\n",
       "           ... \n",
       "1019920     5.5\n",
       "1019921    19.0\n",
       "1019922     4.5\n",
       "1019923     9.7\n",
       "1019924     8.0\n",
       "Name: fare_amount, Length: 1019925, dtype: float64"
      ]
     },
     "execution_count": 287,
     "metadata": {},
     "output_type": "execute_result"
    }
   ],
   "source": [
    "fare = df1.iloc[:,1]\n",
    "fare"
   ]
  },
  {
   "cell_type": "code",
   "execution_count": 288,
   "id": "8d53dac4",
   "metadata": {},
   "outputs": [
    {
     "name": "stdout",
     "output_type": "stream",
     "text": [
      "[ 4.5 16.9  5.7 ...  4.5  9.7  8. ]\n"
     ]
    }
   ],
   "source": [
    "b = np.array(fare)\n",
    "print(b)"
   ]
  },
  {
   "cell_type": "markdown",
   "id": "01cd1fad",
   "metadata": {},
   "source": [
    "### Brute Force"
   ]
  },
  {
   "cell_type": "code",
   "execution_count": 289,
   "id": "e15fa78c",
   "metadata": {},
   "outputs": [
    {
     "name": "stdout",
     "output_type": "stream",
     "text": [
      "Minimum Fare is : -44.9, Maximum Fare is : 500.0\n"
     ]
    }
   ],
   "source": [
    "max_val,min_val = MaxMin(b,len(b))\n",
    "print(f\"Minimum Fare is : {min_val}, Maximum Fare is : {max_val}\")"
   ]
  },
  {
   "cell_type": "code",
   "execution_count": 290,
   "id": "38f1d2b2",
   "metadata": {},
   "outputs": [
    {
     "name": "stdout",
     "output_type": "stream",
     "text": [
      "The time required for Brute Force approach is 0.3028082000091672\n"
     ]
    }
   ],
   "source": [
    "start = time.perf_counter()\n",
    "MaxMin(b,len(b) - 1)\n",
    "end = time.perf_counter()\n",
    "timetaken_br2 = end - start\n",
    "print(\"The time required for Brute Force approach is\" ,timetaken_br2)"
   ]
  },
  {
   "cell_type": "markdown",
   "id": "b3459c3a",
   "metadata": {},
   "source": [
    "### DAC"
   ]
  },
  {
   "cell_type": "code",
   "execution_count": 291,
   "id": "b962ee69",
   "metadata": {},
   "outputs": [
    {
     "name": "stdout",
     "output_type": "stream",
     "text": [
      "Maximum Fare: 500.0, Minimum Fare: -44.9\n"
     ]
    }
   ],
   "source": [
    "end_index = len(b) - 1\n",
    "ans = MaxMinDAC(b,0,end_index)\n",
    "print(f\"Maximum Fare: {ans[0]}, Minimum Fare: {ans[1]}\")"
   ]
  },
  {
   "cell_type": "code",
   "execution_count": 292,
   "id": "fb01e76c",
   "metadata": {},
   "outputs": [
    {
     "name": "stdout",
     "output_type": "stream",
     "text": [
      "The time required for DAC is 0.6464578000595793\n"
     ]
    }
   ],
   "source": [
    "start = time.perf_counter()\n",
    "MaxMinDAC(b,0,end_index)\n",
    "end = time.perf_counter()\n",
    "timetaken_dac2 = end-start\n",
    "print(\"The time required for DAC is\" ,timetaken_dac2)"
   ]
  },
  {
   "cell_type": "code",
   "execution_count": 293,
   "id": "84879306",
   "metadata": {},
   "outputs": [
    {
     "data": {
      "image/png": "[encoded data removed]",
      "text/plain": [
       "<Figure size 800x600 with 1 Axes>"
      ]
     },
     "metadata": {},
     "output_type": "display_data"
    }
   ],
   "source": [
    "algo = ['Brute Force', 'Divide and Conquer']\n",
    "times = [timetaken_br2, timetaken_dac2]\n",
    "plt.figure(figsize=(8, 6))\n",
    "plt.bar(algo, times, color=['blue', 'green'])\n",
    "plt.ylabel('Time (seconds)')\n",
    "plt.title('Time Comparison Between Brute Force & Divide and Conquer')\n",
    "plt.show()"
   ]
  },
  {
   "cell_type": "markdown",
   "id": "7159437b",
   "metadata": {},
   "source": [
    "### For test3.csv"
   ]
  },
  {
   "cell_type": "code",
   "execution_count": 294,
   "id": "fc8224aa",
   "metadata": {},
   "outputs": [
    {
     "data": {
      "text/html": [
       "<div>\n",
       "<style scoped>\n",
       "    .dataframe tbody tr th:only-of-type {\n",
       "        vertical-align: middle;\n",
       "    }\n",
       "\n",
       "    .dataframe tbody tr th {\n",
       "        vertical-align: top;\n",
       "    }\n",
       "\n",
       "    .dataframe thead th {\n",
       "        text-align: right;\n",
       "    }\n",
       "</style>\n",
       "<table border=\"1\" class=\"dataframe\">\n",
       "  <thead>\n",
       "    <tr style=\"text-align: right;\">\n",
       "      <th></th>\n",
       "      <th>date</th>\n",
       "      <th>open</th>\n",
       "      <th>high</th>\n",
       "      <th>low</th>\n",
       "      <th>val</th>\n",
       "      <th>volume</th>\n",
       "      <th>Name</th>\n",
       "    </tr>\n",
       "  </thead>\n",
       "  <tbody>\n",
       "    <tr>\n",
       "      <th>0</th>\n",
       "      <td>08-02-2013</td>\n",
       "      <td>15.07</td>\n",
       "      <td>15.12</td>\n",
       "      <td>14.63</td>\n",
       "      <td>14.75</td>\n",
       "      <td>8407500</td>\n",
       "      <td>AAL</td>\n",
       "    </tr>\n",
       "    <tr>\n",
       "      <th>1</th>\n",
       "      <td>11-02-2013</td>\n",
       "      <td>14.89</td>\n",
       "      <td>15.01</td>\n",
       "      <td>14.26</td>\n",
       "      <td>14.46</td>\n",
       "      <td>8882000</td>\n",
       "      <td>AAL</td>\n",
       "    </tr>\n",
       "    <tr>\n",
       "      <th>2</th>\n",
       "      <td>12-02-2013</td>\n",
       "      <td>14.45</td>\n",
       "      <td>14.51</td>\n",
       "      <td>14.10</td>\n",
       "      <td>14.27</td>\n",
       "      <td>8126000</td>\n",
       "      <td>AAL</td>\n",
       "    </tr>\n",
       "    <tr>\n",
       "      <th>3</th>\n",
       "      <td>13-02-2013</td>\n",
       "      <td>14.30</td>\n",
       "      <td>14.94</td>\n",
       "      <td>14.25</td>\n",
       "      <td>14.66</td>\n",
       "      <td>10259500</td>\n",
       "      <td>AAL</td>\n",
       "    </tr>\n",
       "    <tr>\n",
       "      <th>4</th>\n",
       "      <td>14-02-2013</td>\n",
       "      <td>14.94</td>\n",
       "      <td>14.96</td>\n",
       "      <td>13.16</td>\n",
       "      <td>13.99</td>\n",
       "      <td>31879900</td>\n",
       "      <td>AAL</td>\n",
       "    </tr>\n",
       "  </tbody>\n",
       "</table>\n",
       "</div>"
      ],
      "text/plain": [
       "         date   open   high    low    val    volume Name\n",
       "0  08-02-2013  15.07  15.12  14.63  14.75   8407500  AAL\n",
       "1  11-02-2013  14.89  15.01  14.26  14.46   8882000  AAL\n",
       "2  12-02-2013  14.45  14.51  14.10  14.27   8126000  AAL\n",
       "3  13-02-2013  14.30  14.94  14.25  14.66  10259500  AAL\n",
       "4  14-02-2013  14.94  14.96  13.16  13.99  31879900  AAL"
      ]
     },
     "execution_count": 294,
     "metadata": {},
     "output_type": "execute_result"
    }
   ],
   "source": [
    "df2 = pd.read_csv('test3.csv')\n",
    "df2.head()"
   ]
  },
  {
   "cell_type": "code",
   "execution_count": 295,
   "id": "84ee5f50",
   "metadata": {},
   "outputs": [
    {
     "data": {
      "text/plain": [
       "0          8407500\n",
       "1          8882000\n",
       "2          8126000\n",
       "3         10259500\n",
       "4         31879900\n",
       "            ...   \n",
       "619035     2982259\n",
       "619036     2595187\n",
       "619037     2962031\n",
       "619038     4924323\n",
       "619039     4534912\n",
       "Name: volume, Length: 619040, dtype: int64"
      ]
     },
     "execution_count": 295,
     "metadata": {},
     "output_type": "execute_result"
    }
   ],
   "source": [
    "vol = df2.iloc[:,5]\n",
    "vol"
   ]
  },
  {
   "cell_type": "code",
   "execution_count": 296,
   "id": "a0a1cfa6",
   "metadata": {},
   "outputs": [
    {
     "name": "stdout",
     "output_type": "stream",
     "text": [
      "[8407500 8882000 8126000 ... 2962031 4924323 4534912]\n"
     ]
    }
   ],
   "source": [
    "c = np.array(vol)\n",
    "print(c)"
   ]
  },
  {
   "cell_type": "markdown",
   "id": "b363ae29",
   "metadata": {},
   "source": [
    "### Brute Force Approach"
   ]
  },
  {
   "cell_type": "code",
   "execution_count": 297,
   "id": "e8486349",
   "metadata": {},
   "outputs": [
    {
     "name": "stdout",
     "output_type": "stream",
     "text": [
      "Minimum Volume is : 0, Maximum Volume is : 618237630\n"
     ]
    }
   ],
   "source": [
    "max_val,min_val = MaxMin(c,len(c))\n",
    "print(f\"Minimum Volume is : {min_val}, Maximum Volume is : {max_val}\")"
   ]
  },
  {
   "cell_type": "code",
   "execution_count": 298,
   "id": "34e84397",
   "metadata": {},
   "outputs": [
    {
     "name": "stdout",
     "output_type": "stream",
     "text": [
      "The time required for Brute Force approach is 0.1661040000617504\n"
     ]
    }
   ],
   "source": [
    "start = time.perf_counter()\n",
    "MaxMin(c,len(c))\n",
    "end = time.perf_counter()\n",
    "timetaken_br3 = end - start\n",
    "print(\"The time required for Brute Force approach is\" ,timetaken_br3)"
   ]
  },
  {
   "cell_type": "markdown",
   "id": "472ef8e3",
   "metadata": {},
   "source": [
    "### DAC"
   ]
  },
  {
   "cell_type": "code",
   "execution_count": 299,
   "id": "37f8dcd4",
   "metadata": {},
   "outputs": [
    {
     "name": "stdout",
     "output_type": "stream",
     "text": [
      "Maximum Fare: 618237630, Minimum Fare: 0\n"
     ]
    }
   ],
   "source": [
    "end_index = len(c) - 1\n",
    "ans = MaxMinDAC(c,0,end_index)\n",
    "print(f\"Maximum Fare: {ans[0]}, Minimum Fare: {ans[1]}\")"
   ]
  },
  {
   "cell_type": "code",
   "execution_count": 300,
   "id": "2cf23e89",
   "metadata": {},
   "outputs": [
    {
     "name": "stdout",
     "output_type": "stream",
     "text": [
      "The time required for DAC is 0.3901297999545932\n"
     ]
    }
   ],
   "source": [
    "start = time.perf_counter()\n",
    "MaxMinDAC(c,0,end_index)\n",
    "end = time.perf_counter()\n",
    "timetaken_dac3 = end-start\n",
    "print(\"The time required for DAC is\" ,timetaken_dac3)"
   ]
  },
  {
   "cell_type": "code",
   "execution_count": 301,
   "id": "033a064d",
   "metadata": {},
   "outputs": [
    {
     "data": {
      "image/png": "[encoded data removed]",
      "text/plain": [
       "<Figure size 800x600 with 1 Axes>"
      ]
     },
     "metadata": {},
     "output_type": "display_data"
    }
   ],
   "source": [
    "algo = ['Brute Force', 'Divide and Conquer']\n",
    "times = [timetaken_br3, timetaken_dac3]\n",
    "plt.figure(figsize=(8, 6))\n",
    "plt.bar(algo, times, color=['blue', 'green'])\n",
    "plt.ylabel('Time (seconds)')\n",
    "plt.title('Time Comparison Between Brute Force & Divide and Conquer')\n",
    "plt.show()"
   ]
  },
  {
   "cell_type": "markdown",
   "id": "20750181",
   "metadata": {},
   "source": [
    "### For test4.csv"
   ]
  },
  {
   "cell_type": "code",
   "execution_count": 302,
   "id": "79c99441",
   "metadata": {
    "scrolled": false
   },
   "outputs": [
    {
     "data": {
      "text/html": [
       "<div>\n",
       "<style scoped>\n",
       "    .dataframe tbody tr th:only-of-type {\n",
       "        vertical-align: middle;\n",
       "    }\n",
       "\n",
       "    .dataframe tbody tr th {\n",
       "        vertical-align: top;\n",
       "    }\n",
       "\n",
       "    .dataframe thead th {\n",
       "        text-align: right;\n",
       "    }\n",
       "</style>\n",
       "<table border=\"1\" class=\"dataframe\">\n",
       "  <thead>\n",
       "    <tr style=\"text-align: right;\">\n",
       "      <th></th>\n",
       "      <th>iso_code</th>\n",
       "      <th>continent</th>\n",
       "      <th>location</th>\n",
       "      <th>date</th>\n",
       "      <th>total_cases</th>\n",
       "      <th>new_cases</th>\n",
       "      <th>new_cases_smoothed</th>\n",
       "      <th>total_deaths</th>\n",
       "      <th>new_deaths</th>\n",
       "      <th>new_deaths_smoothed</th>\n",
       "      <th>...</th>\n",
       "      <th>female_smokers</th>\n",
       "      <th>male_smokers</th>\n",
       "      <th>handwashing_facilities</th>\n",
       "      <th>hospital_beds_per_thousand</th>\n",
       "      <th>life_expectancy</th>\n",
       "      <th>human_development_index</th>\n",
       "      <th>excess_mortality_cumulative_absolute</th>\n",
       "      <th>excess_mortality_cumulative</th>\n",
       "      <th>excess_mortality</th>\n",
       "      <th>excess_mortality_cumulative_per_million</th>\n",
       "    </tr>\n",
       "  </thead>\n",
       "  <tbody>\n",
       "    <tr>\n",
       "      <th>0</th>\n",
       "      <td>AFG</td>\n",
       "      <td>Asia</td>\n",
       "      <td>Afghanistan</td>\n",
       "      <td>24-02-2020</td>\n",
       "      <td>5.0</td>\n",
       "      <td>5.0</td>\n",
       "      <td>NaN</td>\n",
       "      <td>NaN</td>\n",
       "      <td>NaN</td>\n",
       "      <td>NaN</td>\n",
       "      <td>...</td>\n",
       "      <td>NaN</td>\n",
       "      <td>NaN</td>\n",
       "      <td>37.746</td>\n",
       "      <td>0.5</td>\n",
       "      <td>64.83</td>\n",
       "      <td>0.511</td>\n",
       "      <td>NaN</td>\n",
       "      <td>NaN</td>\n",
       "      <td>NaN</td>\n",
       "      <td>NaN</td>\n",
       "    </tr>\n",
       "    <tr>\n",
       "      <th>1</th>\n",
       "      <td>AFG</td>\n",
       "      <td>Asia</td>\n",
       "      <td>Afghanistan</td>\n",
       "      <td>25-02-2020</td>\n",
       "      <td>5.0</td>\n",
       "      <td>0.0</td>\n",
       "      <td>NaN</td>\n",
       "      <td>NaN</td>\n",
       "      <td>NaN</td>\n",
       "      <td>NaN</td>\n",
       "      <td>...</td>\n",
       "      <td>NaN</td>\n",
       "      <td>NaN</td>\n",
       "      <td>37.746</td>\n",
       "      <td>0.5</td>\n",
       "      <td>64.83</td>\n",
       "      <td>0.511</td>\n",
       "      <td>NaN</td>\n",
       "      <td>NaN</td>\n",
       "      <td>NaN</td>\n",
       "      <td>NaN</td>\n",
       "    </tr>\n",
       "    <tr>\n",
       "      <th>2</th>\n",
       "      <td>AFG</td>\n",
       "      <td>Asia</td>\n",
       "      <td>Afghanistan</td>\n",
       "      <td>26-02-2020</td>\n",
       "      <td>5.0</td>\n",
       "      <td>0.0</td>\n",
       "      <td>NaN</td>\n",
       "      <td>NaN</td>\n",
       "      <td>NaN</td>\n",
       "      <td>NaN</td>\n",
       "      <td>...</td>\n",
       "      <td>NaN</td>\n",
       "      <td>NaN</td>\n",
       "      <td>37.746</td>\n",
       "      <td>0.5</td>\n",
       "      <td>64.83</td>\n",
       "      <td>0.511</td>\n",
       "      <td>NaN</td>\n",
       "      <td>NaN</td>\n",
       "      <td>NaN</td>\n",
       "      <td>NaN</td>\n",
       "    </tr>\n",
       "    <tr>\n",
       "      <th>3</th>\n",
       "      <td>AFG</td>\n",
       "      <td>Asia</td>\n",
       "      <td>Afghanistan</td>\n",
       "      <td>27-02-2020</td>\n",
       "      <td>5.0</td>\n",
       "      <td>0.0</td>\n",
       "      <td>NaN</td>\n",
       "      <td>NaN</td>\n",
       "      <td>NaN</td>\n",
       "      <td>NaN</td>\n",
       "      <td>...</td>\n",
       "      <td>NaN</td>\n",
       "      <td>NaN</td>\n",
       "      <td>37.746</td>\n",
       "      <td>0.5</td>\n",
       "      <td>64.83</td>\n",
       "      <td>0.511</td>\n",
       "      <td>NaN</td>\n",
       "      <td>NaN</td>\n",
       "      <td>NaN</td>\n",
       "      <td>NaN</td>\n",
       "    </tr>\n",
       "    <tr>\n",
       "      <th>4</th>\n",
       "      <td>AFG</td>\n",
       "      <td>Asia</td>\n",
       "      <td>Afghanistan</td>\n",
       "      <td>28-02-2020</td>\n",
       "      <td>5.0</td>\n",
       "      <td>0.0</td>\n",
       "      <td>NaN</td>\n",
       "      <td>NaN</td>\n",
       "      <td>NaN</td>\n",
       "      <td>NaN</td>\n",
       "      <td>...</td>\n",
       "      <td>NaN</td>\n",
       "      <td>NaN</td>\n",
       "      <td>37.746</td>\n",
       "      <td>0.5</td>\n",
       "      <td>64.83</td>\n",
       "      <td>0.511</td>\n",
       "      <td>NaN</td>\n",
       "      <td>NaN</td>\n",
       "      <td>NaN</td>\n",
       "      <td>NaN</td>\n",
       "    </tr>\n",
       "  </tbody>\n",
       "</table>\n",
       "<p>5 rows × 67 columns</p>\n",
       "</div>"
      ],
      "text/plain": [
       "  iso_code continent     location        date  total_cases  new_cases  \\\n",
       "0      AFG      Asia  Afghanistan  24-02-2020          5.0        5.0   \n",
       "1      AFG      Asia  Afghanistan  25-02-2020          5.0        0.0   \n",
       "2      AFG      Asia  Afghanistan  26-02-2020          5.0        0.0   \n",
       "3      AFG      Asia  Afghanistan  27-02-2020          5.0        0.0   \n",
       "4      AFG      Asia  Afghanistan  28-02-2020          5.0        0.0   \n",
       "\n",
       "   new_cases_smoothed  total_deaths  new_deaths  new_deaths_smoothed  ...  \\\n",
       "0                 NaN           NaN         NaN                  NaN  ...   \n",
       "1                 NaN           NaN         NaN                  NaN  ...   \n",
       "2                 NaN           NaN         NaN                  NaN  ...   \n",
       "3                 NaN           NaN         NaN                  NaN  ...   \n",
       "4                 NaN           NaN         NaN                  NaN  ...   \n",
       "\n",
       "   female_smokers  male_smokers  handwashing_facilities  \\\n",
       "0             NaN           NaN                  37.746   \n",
       "1             NaN           NaN                  37.746   \n",
       "2             NaN           NaN                  37.746   \n",
       "3             NaN           NaN                  37.746   \n",
       "4             NaN           NaN                  37.746   \n",
       "\n",
       "   hospital_beds_per_thousand  life_expectancy  human_development_index  \\\n",
       "0                         0.5            64.83                    0.511   \n",
       "1                         0.5            64.83                    0.511   \n",
       "2                         0.5            64.83                    0.511   \n",
       "3                         0.5            64.83                    0.511   \n",
       "4                         0.5            64.83                    0.511   \n",
       "\n",
       "   excess_mortality_cumulative_absolute  excess_mortality_cumulative  \\\n",
       "0                                   NaN                          NaN   \n",
       "1                                   NaN                          NaN   \n",
       "2                                   NaN                          NaN   \n",
       "3                                   NaN                          NaN   \n",
       "4                                   NaN                          NaN   \n",
       "\n",
       "   excess_mortality  excess_mortality_cumulative_per_million  \n",
       "0               NaN                                      NaN  \n",
       "1               NaN                                      NaN  \n",
       "2               NaN                                      NaN  \n",
       "3               NaN                                      NaN  \n",
       "4               NaN                                      NaN  \n",
       "\n",
       "[5 rows x 67 columns]"
      ]
     },
     "execution_count": 302,
     "metadata": {},
     "output_type": "execute_result"
    }
   ],
   "source": [
    "df3 = pd.read_csv('test4.csv')\n",
    "df3.head()"
   ]
  },
  {
   "cell_type": "code",
   "execution_count": 303,
   "id": "14f5ea42",
   "metadata": {
    "scrolled": true
   },
   "outputs": [
    {
     "data": {
      "text/plain": [
       "0              5.0\n",
       "1              5.0\n",
       "2              5.0\n",
       "3              5.0\n",
       "4              5.0\n",
       "            ...   \n",
       "166321    236871.0\n",
       "166322    237503.0\n",
       "166323    237503.0\n",
       "166324    238739.0\n",
       "166325    239019.0\n",
       "Name: total_cases, Length: 166326, dtype: float64"
      ]
     },
     "execution_count": 303,
     "metadata": {},
     "output_type": "execute_result"
    }
   ],
   "source": [
    "val = df3.iloc[:,4]\n",
    "val"
   ]
  },
  {
   "cell_type": "code",
   "execution_count": 304,
   "id": "eef11cdd",
   "metadata": {},
   "outputs": [
    {
     "name": "stdout",
     "output_type": "stream",
     "text": [
      "[5.00000e+00 5.00000e+00 5.00000e+00 ... 2.37503e+05 2.38739e+05\n",
      " 2.39019e+05]\n"
     ]
    }
   ],
   "source": [
    "d = np.array(val)\n",
    "print(d)"
   ]
  },
  {
   "cell_type": "markdown",
   "id": "ad384dc2",
   "metadata": {},
   "source": [
    "### Brute Force"
   ]
  },
  {
   "cell_type": "code",
   "execution_count": 305,
   "id": "8009ee4b",
   "metadata": {},
   "outputs": [
    {
     "name": "stdout",
     "output_type": "stream",
     "text": [
      "Minimum Value is : 1.0, Maximum Value is : 445129499.0\n"
     ]
    }
   ],
   "source": [
    "max_val,min_val = MaxMin(d,len(d))\n",
    "print(f\"Minimum Value is : {min_val}, Maximum Value is : {max_val}\")"
   ]
  },
  {
   "cell_type": "code",
   "execution_count": 306,
   "id": "bda893a4",
   "metadata": {},
   "outputs": [
    {
     "name": "stdout",
     "output_type": "stream",
     "text": [
      "The time required for Brute Force approach is 0.0526781000662595\n"
     ]
    }
   ],
   "source": [
    "start = time.perf_counter()\n",
    "MaxMin(d,len(d))\n",
    "end = time.perf_counter()\n",
    "timetaken_br4 = end - start\n",
    "print(\"The time required for Brute Force approach is\" ,timetaken_br4)"
   ]
  },
  {
   "cell_type": "markdown",
   "id": "d34e9af6",
   "metadata": {},
   "source": [
    "### DAC"
   ]
  },
  {
   "cell_type": "code",
   "execution_count": 307,
   "id": "4f133848",
   "metadata": {},
   "outputs": [
    {
     "name": "stdout",
     "output_type": "stream",
     "text": [
      "Maximum Fare: 445129499.0, Minimum Fare: 1.0\n"
     ]
    }
   ],
   "source": [
    "end_index = len(d) - 1\n",
    "ans = MaxMinDAC(d,0,end_index)\n",
    "print(f\"Maximum Fare: {ans[0]}, Minimum Fare: {ans[1]}\")"
   ]
  },
  {
   "cell_type": "code",
   "execution_count": 308,
   "id": "50f009cd",
   "metadata": {},
   "outputs": [
    {
     "name": "stdout",
     "output_type": "stream",
     "text": [
      "The time required for DAC is 0.1148164999904111\n"
     ]
    }
   ],
   "source": [
    "start = time.perf_counter()\n",
    "MaxMinDAC(d,0,end_index)\n",
    "end = time.perf_counter()\n",
    "timetaken_dac4 = end-start\n",
    "print(\"The time required for DAC is\" ,timetaken_dac4)"
   ]
  },
  {
   "cell_type": "code",
   "execution_count": 309,
   "id": "879d0ffb",
   "metadata": {},
   "outputs": [
    {
     "data": {
      "image/png": "[encoded data removed]",
      "text/plain": [
       "<Figure size 800x600 with 1 Axes>"
      ]
     },
     "metadata": {},
     "output_type": "display_data"
    }
   ],
   "source": [
    "algo = ['Brute Force', 'Divide and Conquer']\n",
    "times = [timetaken_br4, timetaken_dac4]\n",
    "plt.figure(figsize=(8, 6))\n",
    "plt.bar(algo, times, color=['blue', 'green'])\n",
    "plt.ylabel('Time (seconds)')\n",
    "plt.title('Time Comparison Between Brute Force & Divide and Conquer')\n",
    "plt.show()"
   ]
  },
  {
   "cell_type": "markdown",
   "id": "b90987d2",
   "metadata": {},
   "source": [
    "### For data500.csv"
   ]
  },
  {
   "cell_type": "code",
   "execution_count": 329,
   "id": "f2366ea1",
   "metadata": {},
   "outputs": [
    {
     "data": {
      "text/html": [
       "<div>\n",
       "<style scoped>\n",
       "    .dataframe tbody tr th:only-of-type {\n",
       "        vertical-align: middle;\n",
       "    }\n",
       "\n",
       "    .dataframe tbody tr th {\n",
       "        vertical-align: top;\n",
       "    }\n",
       "\n",
       "    .dataframe thead th {\n",
       "        text-align: right;\n",
       "    }\n",
       "</style>\n",
       "<table border=\"1\" class=\"dataframe\">\n",
       "  <thead>\n",
       "    <tr style=\"text-align: right;\">\n",
       "      <th></th>\n",
       "      <th>numbers</th>\n",
       "    </tr>\n",
       "  </thead>\n",
       "  <tbody>\n",
       "    <tr>\n",
       "      <th>0</th>\n",
       "      <td>255</td>\n",
       "    </tr>\n",
       "    <tr>\n",
       "      <th>1</th>\n",
       "      <td>78</td>\n",
       "    </tr>\n",
       "    <tr>\n",
       "      <th>2</th>\n",
       "      <td>768</td>\n",
       "    </tr>\n",
       "    <tr>\n",
       "      <th>3</th>\n",
       "      <td>187</td>\n",
       "    </tr>\n",
       "    <tr>\n",
       "      <th>4</th>\n",
       "      <td>481</td>\n",
       "    </tr>\n",
       "  </tbody>\n",
       "</table>\n",
       "</div>"
      ],
      "text/plain": [
       "   numbers\n",
       "0      255\n",
       "1       78\n",
       "2      768\n",
       "3      187\n",
       "4      481"
      ]
     },
     "execution_count": 329,
     "metadata": {},
     "output_type": "execute_result"
    }
   ],
   "source": [
    "df4 = pd.read_csv('data500.csv')\n",
    "df4.head()"
   ]
  },
  {
   "cell_type": "code",
   "execution_count": 330,
   "id": "d4eeb476",
   "metadata": {},
   "outputs": [
    {
     "name": "stdout",
     "output_type": "stream",
     "text": [
      "[[255]\n",
      " [ 78]\n",
      " [768]\n",
      " [187]\n",
      " [481]\n",
      " [ 53]\n",
      " [948]\n",
      " [760]\n",
      " [820]\n",
      " [532]\n",
      " [205]\n",
      " [998]\n",
      " [406]\n",
      " [ 12]\n",
      " [456]\n",
      " [624]\n",
      " [335]\n",
      " [135]\n",
      " [589]\n",
      " [623]\n",
      " [332]\n",
      " [327]\n",
      " [394]\n",
      " [106]\n",
      " [932]\n",
      " [899]\n",
      " [406]\n",
      " [895]\n",
      " [523]\n",
      " [612]\n",
      " [259]\n",
      " [786]\n",
      " [561]\n",
      " [ 80]\n",
      " [575]\n",
      " [935]\n",
      " [249]\n",
      " [680]\n",
      " [117]\n",
      " [825]\n",
      " [ 65]\n",
      " [325]\n",
      " [865]\n",
      " [931]\n",
      " [353]\n",
      " [541]\n",
      " [289]\n",
      " [405]\n",
      " [210]\n",
      " [721]\n",
      " [474]\n",
      " [706]\n",
      " [992]\n",
      " [931]\n",
      " [ 15]\n",
      " [797]\n",
      " [ 18]\n",
      " [936]\n",
      " [662]\n",
      " [840]\n",
      " [192]\n",
      " [719]\n",
      " [122]\n",
      " [936]\n",
      " [517]\n",
      " [228]\n",
      " [576]\n",
      " [675]\n",
      " [961]\n",
      " [814]\n",
      " [681]\n",
      " [134]\n",
      " [412]\n",
      " [638]\n",
      " [690]\n",
      " [523]\n",
      " [963]\n",
      " [994]\n",
      " [926]\n",
      " [824]\n",
      " [638]\n",
      " [495]\n",
      " [680]\n",
      " [  9]\n",
      " [317]\n",
      " [500]\n",
      " [850]\n",
      " [994]\n",
      " [454]\n",
      " [ 99]\n",
      " [334]\n",
      " [850]\n",
      " [249]\n",
      " [780]\n",
      " [635]\n",
      " [244]\n",
      " [318]\n",
      " [848]\n",
      " [352]\n",
      " [889]\n",
      " [791]\n",
      " [840]\n",
      " [570]\n",
      " [473]\n",
      " [220]\n",
      " [172]\n",
      " [338]\n",
      " [447]\n",
      " [392]\n",
      " [958]\n",
      " [905]\n",
      " [572]\n",
      " [365]\n",
      " [410]\n",
      " [736]\n",
      " [624]\n",
      " [392]\n",
      " [690]\n",
      " [112]\n",
      " [907]\n",
      " [ 90]\n",
      " [687]\n",
      " [650]\n",
      " [  4]\n",
      " [133]\n",
      " [804]\n",
      " [ 87]\n",
      " [501]\n",
      " [247]\n",
      " [600]\n",
      " [208]\n",
      " [198]\n",
      " [230]\n",
      " [338]\n",
      " [793]\n",
      " [527]\n",
      " [220]\n",
      " [459]\n",
      " [769]\n",
      " [ 27]\n",
      " [498]\n",
      " [322]\n",
      " [951]\n",
      " [ 69]\n",
      " [715]\n",
      " [274]\n",
      " [610]\n",
      " [900]\n",
      " [971]\n",
      " [254]\n",
      " [355]\n",
      " [249]\n",
      " [757]\n",
      " [963]\n",
      " [611]\n",
      " [177]\n",
      " [713]\n",
      " [300]\n",
      " [885]\n",
      " [ 59]\n",
      " [176]\n",
      " [231]\n",
      " [617]\n",
      " [243]\n",
      " [236]\n",
      " [635]\n",
      " [788]\n",
      " [880]\n",
      " [347]\n",
      " [600]\n",
      " [606]\n",
      " [125]\n",
      " [480]\n",
      " [583]\n",
      " [278]\n",
      " [722]\n",
      " [ 86]\n",
      " [469]\n",
      " [971]\n",
      " [921]\n",
      " [371]\n",
      " [541]\n",
      " [453]\n",
      " [542]\n",
      " [173]\n",
      " [321]\n",
      " [773]\n",
      " [751]\n",
      " [ 80]\n",
      " [625]\n",
      " [225]\n",
      " [939]\n",
      " [644]\n",
      " [848]\n",
      " [274]\n",
      " [745]\n",
      " [112]\n",
      " [ 85]\n",
      " [830]\n",
      " [841]\n",
      " [ 94]\n",
      " [343]\n",
      " [277]\n",
      " [ 70]\n",
      " [682]\n",
      " [409]\n",
      " [281]\n",
      " [333]\n",
      " [443]\n",
      " [775]\n",
      " [142]\n",
      " [222]\n",
      " [772]\n",
      " [ 38]\n",
      " [783]\n",
      " [ 70]\n",
      " [571]\n",
      " [570]\n",
      " [840]\n",
      " [517]\n",
      " [196]\n",
      " [822]\n",
      " [731]\n",
      " [627]\n",
      " [410]\n",
      " [707]\n",
      " [676]\n",
      " [645]\n",
      " [ 75]\n",
      " [514]\n",
      " [ 87]\n",
      " [640]\n",
      " [670]\n",
      " [470]\n",
      " [391]\n",
      " [608]\n",
      " [153]\n",
      " [402]\n",
      " [695]\n",
      " [363]\n",
      " [426]\n",
      " [845]\n",
      " [337]\n",
      " [380]\n",
      " [550]\n",
      " [520]\n",
      " [572]\n",
      " [327]\n",
      " [742]\n",
      " [306]\n",
      " [792]\n",
      " [186]\n",
      " [912]\n",
      " [191]\n",
      " [815]\n",
      " [660]\n",
      " [ 20]\n",
      " [884]\n",
      " [411]\n",
      " [731]\n",
      " [ 44]\n",
      " [628]\n",
      " [419]\n",
      " [812]\n",
      " [188]\n",
      " [350]\n",
      " [824]\n",
      " [807]\n",
      " [410]\n",
      " [755]\n",
      " [141]\n",
      " [408]\n",
      " [743]\n",
      " [987]\n",
      " [395]\n",
      " [963]\n",
      " [394]\n",
      " [892]\n",
      " [718]\n",
      " [ 66]\n",
      " [623]\n",
      " [975]\n",
      " [810]\n",
      " [722]\n",
      " [335]\n",
      " [909]\n",
      " [ 52]\n",
      " [ 56]\n",
      " [374]\n",
      " [457]\n",
      " [ 42]\n",
      " [409]\n",
      " [172]\n",
      " [568]\n",
      " [940]\n",
      " [554]\n",
      " [469]\n",
      " [344]\n",
      " [674]\n",
      " [320]\n",
      " [745]\n",
      " [506]\n",
      " [683]\n",
      " [ 64]\n",
      " [678]\n",
      " [135]\n",
      " [626]\n",
      " [293]\n",
      " [655]\n",
      " [ 17]\n",
      " [675]\n",
      " [362]\n",
      " [963]\n",
      " [921]\n",
      " [576]\n",
      " [856]\n",
      " [925]\n",
      " [461]\n",
      " [516]\n",
      " [ 14]\n",
      " [302]\n",
      " [648]\n",
      " [811]\n",
      " [600]\n",
      " [428]\n",
      " [264]\n",
      " [345]\n",
      " [478]\n",
      " [523]\n",
      " [998]\n",
      " [401]\n",
      " [692]\n",
      " [ 88]\n",
      " [668]\n",
      " [662]\n",
      " [451]\n",
      " [155]\n",
      " [520]\n",
      " [639]\n",
      " [374]\n",
      " [ 92]\n",
      " [638]\n",
      " [722]\n",
      " [ 42]\n",
      " [517]\n",
      " [631]\n",
      " [792]\n",
      " [146]\n",
      " [471]\n",
      " [448]\n",
      " [790]\n",
      " [ 90]\n",
      " [453]\n",
      " [152]\n",
      " [839]\n",
      " [487]\n",
      " [992]\n",
      " [843]\n",
      " [911]\n",
      " [676]\n",
      " [523]\n",
      " [227]\n",
      " [309]\n",
      " [227]\n",
      " [680]\n",
      " [259]\n",
      " [327]\n",
      " [850]\n",
      " [ 91]\n",
      " [207]\n",
      " [796]\n",
      " [335]\n",
      " [992]\n",
      " [660]\n",
      " [997]\n",
      " [348]\n",
      " [664]\n",
      " [844]\n",
      " [972]\n",
      " [371]\n",
      " [204]\n",
      " [183]\n",
      " [609]\n",
      " [736]\n",
      " [140]\n",
      " [840]\n",
      " [900]\n",
      " [762]\n",
      " [173]\n",
      " [947]\n",
      " [416]\n",
      " [607]\n",
      " [370]\n",
      " [708]\n",
      " [177]\n",
      " [145]\n",
      " [605]\n",
      " [955]\n",
      " [919]\n",
      " [897]\n",
      " [479]\n",
      " [186]\n",
      " [539]\n",
      " [241]\n",
      " [680]\n",
      " [839]\n",
      " [494]\n",
      " [ 71]\n",
      " [730]\n",
      " [816]\n",
      " [599]\n",
      " [261]\n",
      " [632]\n",
      " [145]\n",
      " [528]\n",
      " [210]\n",
      " [820]\n",
      " [892]\n",
      " [678]\n",
      " [816]\n",
      " [483]\n",
      " [ 64]\n",
      " [257]\n",
      " [427]\n",
      " [532]\n",
      " [953]\n",
      " [438]\n",
      " [290]\n",
      " [ 98]\n",
      " [176]\n",
      " [242]\n",
      " [161]\n",
      " [931]\n",
      " [374]\n",
      " [347]\n",
      " [827]\n",
      " [222]\n",
      " [ 27]\n",
      " [227]\n",
      " [335]\n",
      " [285]\n",
      " [201]\n",
      " [673]\n",
      " [171]\n",
      " [396]\n",
      " [682]\n",
      " [457]\n",
      " [705]\n",
      " [ 90]\n",
      " [658]\n",
      " [719]\n",
      " [853]\n",
      " [176]\n",
      " [770]\n",
      " [636]\n",
      " [460]\n",
      " [190]\n",
      " [302]\n",
      " [224]\n",
      " [512]\n",
      " [257]\n",
      " [502]\n",
      " [414]\n",
      " [924]\n",
      " [105]\n",
      " [615]\n",
      " [255]\n",
      " [899]\n",
      " [271]\n",
      " [363]\n",
      " [981]\n",
      " [402]\n",
      " [972]\n",
      " [ 31]\n",
      " [891]\n",
      " [306]\n",
      " [647]\n",
      " [481]\n",
      " [599]\n",
      " [881]\n",
      " [358]\n",
      " [509]\n",
      " [890]\n",
      " [ 23]\n",
      " [458]\n",
      " [606]\n",
      " [455]\n",
      " [141]\n",
      " [765]\n",
      " [179]\n",
      " [679]\n",
      " [445]\n",
      " [ 12]\n",
      " [547]\n",
      " [943]\n",
      " [405]\n",
      " [180]\n",
      " [763]\n",
      " [978]\n",
      " [294]]\n"
     ]
    }
   ],
   "source": [
    "e = np.array(df4)\n",
    "print(e)"
   ]
  },
  {
   "cell_type": "markdown",
   "id": "e89238d2",
   "metadata": {},
   "source": [
    "### Brute Force"
   ]
  },
  {
   "cell_type": "code",
   "execution_count": 331,
   "id": "96190837",
   "metadata": {},
   "outputs": [
    {
     "name": "stdout",
     "output_type": "stream",
     "text": [
      "Minimum Number is : [4], Maximum Number is : [998]\n"
     ]
    }
   ],
   "source": [
    "max_val,min_val = MaxMin(e,len(e))\n",
    "print(f\"Minimum Number is : {min_val}, Maximum Number is : {max_val}\")"
   ]
  },
  {
   "cell_type": "code",
   "execution_count": 332,
   "id": "6f8153b4",
   "metadata": {},
   "outputs": [
    {
     "name": "stdout",
     "output_type": "stream",
     "text": [
      "The time required for Brute Force approach is 0.0016484999796375632\n"
     ]
    }
   ],
   "source": [
    "start = time.perf_counter()\n",
    "MaxMin(e,len(e))\n",
    "end = time.perf_counter()\n",
    "timetaken_br5 = end - start\n",
    "print(\"The time required for Brute Force approach is\" ,timetaken_br5)"
   ]
  },
  {
   "cell_type": "markdown",
   "id": "19a06539",
   "metadata": {},
   "source": [
    "### DAC"
   ]
  },
  {
   "cell_type": "code",
   "execution_count": 333,
   "id": "3c13ed37",
   "metadata": {},
   "outputs": [
    {
     "name": "stdout",
     "output_type": "stream",
     "text": [
      "Maximum Number: [998], Minimum Number: [4]\n"
     ]
    }
   ],
   "source": [
    "end_index = len(e) - 1\n",
    "ans = MaxMinDAC(e,0,end_index)\n",
    "print(f\"Maximum Number: {ans[0]}, Minimum Number: {ans[1]}\")"
   ]
  },
  {
   "cell_type": "code",
   "execution_count": 334,
   "id": "49146171",
   "metadata": {},
   "outputs": [
    {
     "name": "stdout",
     "output_type": "stream",
     "text": [
      "The time required for DAC is 0.0023624999448657036\n"
     ]
    }
   ],
   "source": [
    "start = time.perf_counter()\n",
    "MaxMinDAC(e,0,end_index)\n",
    "end = time.perf_counter()\n",
    "timetaken_dac5 = end-start\n",
    "print(\"The time required for DAC is\" ,timetaken_dac5)"
   ]
  },
  {
   "cell_type": "code",
   "execution_count": 335,
   "id": "b3e19152",
   "metadata": {},
   "outputs": [
    {
     "data": {
      "image/png": "[encoded data removed]",
      "text/plain": [
       "<Figure size 800x600 with 1 Axes>"
      ]
     },
     "metadata": {},
     "output_type": "display_data"
    }
   ],
   "source": [
    "algo = ['Brute Force', 'Divide and Conquer']\n",
    "times = [timetaken_br5, timetaken_dac5]\n",
    "plt.figure(figsize=(8, 6))\n",
    "plt.bar(algo, times, color=['blue', 'green'])\n",
    "plt.ylabel('Time (seconds)')\n",
    "plt.title('Time Comparison Between Brute Force & Divide and Conquer')\n",
    "plt.show()"
   ]
  },
  {
   "cell_type": "markdown",
   "id": "9276f0f7",
   "metadata": {},
   "source": [
    "#                  --------------------xxxx----------xxxx-----------xxxx----------------"
   ]
  },
  {
   "cell_type": "code",
   "execution_count": null,
   "id": "7a5df946",
   "metadata": {},
   "outputs": [],
   "source": []
  }
 ],
 "metadata": {
  "kernelspec": {
   "display_name": "Python 3 (ipykernel)",
   "language": "python",
   "name": "python3"
  },
  "language_info": {
   "codemirror_mode": {
    "name": "ipython",
    "version": 3
   },
   "file_extension": ".py",
   "mimetype": "text/x-python",
   "name": "python",
   "nbconvert_exporter": "python",
   "pygments_lexer": "ipython3",
   "version": "3.11.4"
  }
 },
 "nbformat": 4,
 "nbformat_minor": 5
}
