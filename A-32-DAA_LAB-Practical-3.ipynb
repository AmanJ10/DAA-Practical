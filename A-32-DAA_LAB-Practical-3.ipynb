{
 "cells": [
  {
   "cell_type": "markdown",
   "id": "7a78df6e",
   "metadata": {},
   "source": [
    "# DAA Lab - Practical - 3\n",
    "## Name : Aman Joharapurkar \n",
    "## Roll No : A-32\n",
    "\n",
    "### Aim :\n",
    "<b> Perform Fractional Knapsack for the given scenario. </b>          \n",
    "<b> Problem Definition:</b> Suppose you are a transport dealer and want to load a truck\n",
    "with different types of boxes. Assume there are 50 types of boxes (Box-1 to Box-50),\n",
    "which weigh different and that the truck has a maximum capacity (truckSize). Each\n",
    "box has a profit value associated with it. It is the commission that the transporter\n",
    "will receive after transporting the box. You can choose any box to put on the truck as\n",
    "long as the number of boxes does not exceed truckSize.\n",
    "Tasks:\n",
    "A. Load the truck using different methods:\n",
    "1. Minimum weight\n",
    "2. Maximum profit\n",
    "3. Profit/weight ratio.\n",
    "Compute the total profit using each method and infer the best performing method.\n",
    "B. Compute the time required in each method and plot the graph.\n",
    "Given Data:       \n",
    " Capacity of truck 850 Kgs          \n",
    " Weight in kg for each box:        \n",
    "[7, 0, 30, 22, 80, 94, 11, 81, 70, 64, 59, 18, 0, 36, 3, 8, 15, 42, 9, 0, 42, 47, 52, 32, 26, 48, 55,\n",
    "6, 29, 84, 2, 4, 18, 56, 7, 29, 93, 44, 71, 3, 86, 66, 31, 65, 0, 79, 20, 65, 52, 13]             \n",
    " Profit in Rs for each box:                       \n",
    "[ 360, 83, 59, 130, 431, 67, 230, 52, 93, 125, 670, 892, 600, 38, 48, 147, 78, 256, 63, 17, 120,\n",
    "164, 432, 35, 92, 110, 22, 42, 50, 323, 514, 28, 87, 73, 78, 15, 26, 78, 210, 36, 85, 189, 274,\n",
    "43, 33, 10, 19, 389, 276, 312 ]    \n"
   ]
  },
  {
   "cell_type": "code",
   "execution_count": 6,
   "id": "7a4bba52",
   "metadata": {},
   "outputs": [],
   "source": [
    "import os\n",
    "import pandas as pd\n",
    "import numpy as np\n",
    "from matplotlib import pyplot as plt\n",
    "import time"
   ]
  },
  {
   "cell_type": "code",
   "execution_count": 7,
   "id": "a950d936",
   "metadata": {},
   "outputs": [
    {
     "name": "stdout",
     "output_type": "stream",
     "text": [
      "Weight List is [7, 0, 30, 22, 80, 94, 11, 81, 70, 64, 59, 18, 0, 36, 3, 8, 15, 42, 9, 0, 42, 47, 52, 32, 26, 48, 55, 6, 29, 84, 2, 4, 18, 56, 7, 29, 93, 44, 71, 3, 86, 66, 31, 65, 0, 79, 20, 65, 52, 13]\n"
     ]
    }
   ],
   "source": [
    "weights =  [7, 0, 30, 22, 80, 94, 11, 81, 70, 64, 59, 18, 0, 36, 3, 8, 15, 42, 9, 0, 42, 47, 52, 32, 26, 48, 55,6, 29, 84, 2, 4, 18, 56, 7, 29, 93, 44, 71, 3, 86, 66, 31, 65, 0, 79, 20, 65, 52, 13]\n",
    "print(f\"Weight List is {weights}\")"
   ]
  },
  {
   "cell_type": "code",
   "execution_count": 8,
   "id": "c103cf1c",
   "metadata": {},
   "outputs": [
    {
     "name": "stdout",
     "output_type": "stream",
     "text": [
      "Profit List is [360, 83, 59, 130, 431, 67, 230, 52, 93, 125, 670, 892, 600, 38, 48, 147, 78, 256, 63, 17, 120, 164, 432, 35, 92, 110, 22, 42, 50, 323, 514, 28, 87, 73, 78, 15, 26, 78, 210, 36, 85, 189, 274, 43, 33, 10, 19, 389, 276, 312]\n"
     ]
    }
   ],
   "source": [
    "profits = [ 360, 83, 59, 130, 431, 67, 230, 52, 93, 125, 670, 892, 600, 38, 48, 147, 78, 256, 63, 17, 120,164, 432, 35, 92, 110, 22, 42, 50, 323, 514, 28, 87, 73, 78, 15, 26, 78, 210, 36, 85, 189, 274,43, 33, 10, 19, 389, 276, 312 ]\n",
    "print(f\"Profit List is {profits}\")"
   ]
  },
  {
   "cell_type": "code",
   "execution_count": 9,
   "id": "241395d4",
   "metadata": {},
   "outputs": [
    {
     "name": "stdout",
     "output_type": "stream",
     "text": [
      "Capacity of the Truck is 850\n"
     ]
    }
   ],
   "source": [
    "max_capacity = 850\n",
    "print(f\"Capacity of the Truck is {max_capacity}\")"
   ]
  },
  {
   "cell_type": "code",
   "execution_count": 10,
   "id": "aa752b80",
   "metadata": {},
   "outputs": [],
   "source": [
    "def knapsack(arr, capacity):\n",
    "    total_profit = 0\n",
    "    selected_items = []\n",
    "    for i in range(num_items):\n",
    "        if arr[i][0] <= capacity:\n",
    "            capacity -= arr[i][0]\n",
    "            selected_items.append(arr[i][0])\n",
    "            total_profit += arr[i][1]\n",
    "        else:\n",
    "            total_profit += (capacity * arr[i][1]) / arr[i][0]\n",
    "            selected_items.append(arr[i][0])\n",
    "            break\n",
    "    return total_profit, len(selected_items)"
   ]
  },
  {
   "cell_type": "code",
   "execution_count": 12,
   "id": "573922bc",
   "metadata": {},
   "outputs": [],
   "source": [
    "item_list = [(weights[i], profits[i]) if weights[i] != 0 else (1e-8, profits[i]) for i in range(50)]\n",
    "item_list.sort(key=lambda x: x[1], reverse=True)\n",
    "min_weight_list = sorted(item_list, key=lambda x: x[0])\n",
    "profit_by_weight_list = sorted(item_list, key=lambda x: x[1] / x[0], reverse=True)"
   ]
  },
  {
   "cell_type": "code",
   "execution_count": 13,
   "id": "9499e98d",
   "metadata": {},
   "outputs": [
    {
     "name": "stdout",
     "output_type": "stream",
     "text": [
      "[(18, 892), (59, 670), (1e-08, 600), (2, 514), (52, 432), (80, 431), (65, 389), (7, 360), (84, 323), (13, 312), (52, 276), (31, 274), (42, 256), (11, 230), (71, 210), (66, 189), (47, 164), (8, 147), (22, 130), (64, 125), (42, 120), (48, 110), (70, 93), (26, 92), (18, 87), (86, 85), (1e-08, 83), (15, 78), (7, 78), (44, 78), (56, 73), (94, 67), (9, 63), (30, 59), (81, 52), (29, 50), (3, 48), (65, 43), (6, 42), (36, 38), (3, 36), (32, 35), (1e-08, 33), (4, 28), (93, 26), (55, 22), (20, 19), (1e-08, 17), (29, 15), (79, 10)]\n"
     ]
    }
   ],
   "source": [
    "print(item_list)"
   ]
  },
  {
   "cell_type": "markdown",
   "id": "1e0b3d43",
   "metadata": {},
   "source": [
    "## Minimum Weight"
   ]
  },
  {
   "cell_type": "code",
   "execution_count": 93,
   "id": "d0f0289f",
   "metadata": {},
   "outputs": [
    {
     "name": "stdout",
     "output_type": "stream",
     "text": [
      "Minimum Weight: 6265.745762257627 Rs\n",
      "Total items in the bag are 37\n",
      "\n"
     ]
    }
   ],
   "source": [
    "min_weight, min_weight_count = knapsack(min_weight_list, max_capacity)\n",
    "print(f\"Minimum Weight: {min_weight} Rs\")\n",
    "print(f\"Total items in the bag are {min_weight_count}\\n\")"
   ]
  },
  {
   "cell_type": "code",
   "execution_count": 94,
   "id": "9649344f",
   "metadata": {},
   "outputs": [
    {
     "name": "stdout",
     "output_type": "stream",
     "text": [
      "0.0005485000001499429\n"
     ]
    }
   ],
   "source": [
    "start=time.perf_counter()\n",
    "knapsack(min_weight_list, max_capacity)\n",
    "end= time.perf_counter()\n",
    "timetaken_1=end-start\n",
    "print(timetaken_1)"
   ]
  },
  {
   "cell_type": "markdown",
   "id": "fb8cfaa8",
   "metadata": {},
   "source": [
    "## Maximum Profit"
   ]
  },
  {
   "cell_type": "code",
   "execution_count": 95,
   "id": "8e254e90",
   "metadata": {},
   "outputs": [
    {
     "name": "stdout",
     "output_type": "stream",
     "text": [
      "Maximum Profit: 7076.0833333104165 Rs\n",
      "Total items in the bag are 22\n",
      "\n"
     ]
    }
   ],
   "source": [
    "max_profit, max_profit_count = knapsack(item_list, max_capacity)\n",
    "print(f\"Maximum Profit: {max_profit} Rs\")\n",
    "print(f\"Total items in the bag are {max_profit_count}\\n\")"
   ]
  },
  {
   "cell_type": "code",
   "execution_count": 96,
   "id": "03814d18",
   "metadata": {},
   "outputs": [
    {
     "name": "stdout",
     "output_type": "stream",
     "text": [
      "0.00027380000392440706\n"
     ]
    }
   ],
   "source": [
    "start=time.perf_counter()\n",
    "knapsack(item_list, max_capacity)\n",
    "end= time.perf_counter()\n",
    "timetaken=end-start\n",
    "print(timetaken)"
   ]
  },
  {
   "cell_type": "markdown",
   "id": "e9593617",
   "metadata": {},
   "source": [
    "## Profit / Weight Ratio"
   ]
  },
  {
   "cell_type": "code",
   "execution_count": 97,
   "id": "827078aa",
   "metadata": {},
   "outputs": [
    {
     "name": "stdout",
     "output_type": "stream",
     "text": [
      "Profit/Weight: 7566.857142742857 Rs\n",
      "Total items in the bag are 32\n",
      "\n"
     ]
    }
   ],
   "source": [
    "profit_by_weight, profit_by_weight_count = knapsack(profit_by_weight_list, max_capacity)\n",
    "print(f\"Profit/Weight: {profit_by_weight} Rs\")\n",
    "print(f\"Total items in the bag are {profit_by_weight_count}\\n\")"
   ]
  },
  {
   "cell_type": "code",
   "execution_count": 98,
   "id": "ba3ce865",
   "metadata": {},
   "outputs": [
    {
     "name": "stdout",
     "output_type": "stream",
     "text": [
      "0.0002938999969046563\n"
     ]
    }
   ],
   "source": [
    "start=time.perf_counter()\n",
    "knapsack(profit_by_weight_list, max_capacity)\n",
    "end= time.perf_counter()\n",
    "timetaken_2=end-start\n",
    "print(timetaken_2)"
   ]
  },
  {
   "cell_type": "markdown",
   "id": "70055ec8",
   "metadata": {},
   "source": [
    "## Graph to compare time between different strategy"
   ]
  },
  {
   "cell_type": "code",
   "execution_count": 99,
   "id": "76e3f3be",
   "metadata": {},
   "outputs": [
    {
     "data": {
      "image/png": "[encoded data removed]",
      "text/plain": [
       "<Figure size 1000x600 with 1 Axes>"
      ]
     },
     "metadata": {},
     "output_type": "display_data"
    }
   ],
   "source": [
    "strategies = [\"Maximum Profit\", \"Minimum Weight\", \"Profit/Weight\"]\n",
    "times = [timetaken, timetaken_1, timetaken_2]\n",
    "\n",
    "plt.figure(figsize=(10, 6))\n",
    "plt.bar(strategies, times, color=['blue', 'green', 'orange'])\n",
    "plt.xlabel('Knapsack Strategy')\n",
    "plt.ylabel('Time (s)')\n",
    "plt.title('Execution Time Comparison for Knapsack Strategies')\n",
    "plt.show()"
   ]
  },
  {
   "cell_type": "markdown",
   "id": "359be2d4",
   "metadata": {},
   "source": [
    "## A recursive approach for Knapsack Problem"
   ]
  },
  {
   "cell_type": "code",
   "execution_count": 56,
   "id": "55600d78",
   "metadata": {},
   "outputs": [],
   "source": [
    "def minWeight(ind, capacity, weights, profits):\n",
    "    if ind < 0 or max_capacity <= 0:\n",
    "        return 0\n",
    "\n",
    "    if weight[ind] > max_capacity:\n",
    "        return minWeight(ind - 1, max_capacity, weights, profits)\n",
    "\n",
    "    notPick = minWeight(ind - 1, max_capacity, weights, profits)\n",
    "    pick = profits[ind] + minWeight(ind - 1, max_capacity - weight[ind], weights, profits)\n",
    "\n",
    "    return max(pick, notPick)"
   ]
  },
  {
   "cell_type": "code",
   "execution_count": null,
   "id": "f0e50b52",
   "metadata": {},
   "outputs": [],
   "source": []
  }
 ],
 "metadata": {
  "kernelspec": {
   "display_name": "Python 3 (ipykernel)",
   "language": "python",
   "name": "python3"
  },
  "language_info": {
   "codemirror_mode": {
    "name": "ipython",
    "version": 3
   },
   "file_extension": ".py",
   "mimetype": "text/x-python",
   "name": "python",
   "nbconvert_exporter": "python",
   "pygments_lexer": "ipython3",
   "version": "3.11.4"
  }
 },
 "nbformat": 4,
 "nbformat_minor": 5
}
