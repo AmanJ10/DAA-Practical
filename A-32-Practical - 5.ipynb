{
 "cells": [
  {
   "cell_type": "markdown",
   "id": "cb7a7b0c",
   "metadata": {},
   "source": [
    "# DAA Lab - Practical - 5\n",
    "## Name : Aman Joharapurkar \n",
    "## Roll No : A-32\n",
    "\n",
    "### Aim : \n",
    "<b>Problem Definition:</b>        A traveling salesman is getting ready for a big sales tour. Starting at his hometown,\n",
    "suitcase in hand, he will conduct a journey in which each of his target cities is visited exactly\n",
    "once before he returns home. Given the pairwise distances between cities, what is the best\n",
    "order in which to visit them, so as to minimize the overall distance traveled?\n",
    "[Note that a subsequence might not include consecutive elements of the original sequence.]\n"
   ]
  },
  {
   "cell_type": "code",
   "execution_count": 84,
   "id": "3ef45d32",
   "metadata": {},
   "outputs": [],
   "source": [
    "cost_matrix = [\n",
    "    [99, 10, 15, 20],\n",
    "    [5, 99, 9, 10],\n",
    "    [6, 13, 99, 12],\n",
    "    [8, 8, 9, 99]\n",
    "]"
   ]
  },
  {
   "cell_type": "code",
   "execution_count": 85,
   "id": "98208823",
   "metadata": {},
   "outputs": [
    {
     "name": "stdout",
     "output_type": "stream",
     "text": [
      "City Matrix (cost matrix):\n",
      "99 10 15 20 \n",
      " 5 99  9 10 \n",
      " 6 13 99 12 \n",
      " 8  8  9 99 \n"
     ]
    }
   ],
   "source": [
    "print(\"City Matrix (cost matrix):\")\n",
    "for row in cost_matrix:\n",
    "    for cost in row:\n",
    "        print(f\"{cost:2d}\", end=\" \")\n",
    "    print()\n"
   ]
  },
  {
   "cell_type": "code",
   "execution_count": 86,
   "id": "d60e4237",
   "metadata": {},
   "outputs": [
    {
     "name": "stdout",
     "output_type": "stream",
     "text": [
      "Total cities are : 4\n"
     ]
    }
   ],
   "source": [
    "total = len(cost_matrix)\n",
    "print(f\"Total cities are : {total}\")"
   ]
  },
  {
   "cell_type": "markdown",
   "id": "db7942a1",
   "metadata": {},
   "source": [
    "## Approach 1\n",
    "### Here we have a remaining set which contains all the cities which are remaining and as we visit the city one by one then those cities are removed from the set."
   ]
  },
  {
   "cell_type": "code",
   "execution_count": 87,
   "id": "e6cbb6ce",
   "metadata": {},
   "outputs": [],
   "source": [
    "def f(cost_matrix, start,total):\n",
    "    def tsp(i, remaining):\n",
    "        if not remaining:\n",
    "            if i != start:\n",
    "                return (cost_matrix[i][start], [i, start])  \n",
    "            else: \n",
    "                return (99999999, [])\n",
    "        else:\n",
    "            min_dist = 99999999\n",
    "            min_path = []\n",
    "            for j in remaining:\n",
    "                if j != i:\n",
    "                    dist, path = tsp(j, remaining - {j})\n",
    "                    dist += cost_matrix[i][j]\n",
    "                    if dist < min_dist:\n",
    "                        min_dist = dist\n",
    "                        min_path = [i] + path\n",
    "            return min_dist, min_path\n",
    "\n",
    "    cities = set(range(0, total))\n",
    "    cities.remove(start)\n",
    "    min_dist, min_path = tsp(start, cities)\n",
    "    return min_dist, min_path"
   ]
  },
  {
   "cell_type": "code",
   "execution_count": 88,
   "id": "3fb3abe6",
   "metadata": {},
   "outputs": [
    {
     "name": "stdout",
     "output_type": "stream",
     "text": [
      "Shortest path from city 1 and coming back to city 1:\n",
      "Distance is : 35\n",
      "Path is : 1 -> 2 -> 4 -> 3 -> 1\n",
      "\n",
      "Shortest path from city 2 and coming back to city 2:\n",
      "Distance is : 35\n",
      "Path is : 2 -> 4 -> 3 -> 1 -> 2\n",
      "\n",
      "Shortest path from city 3 and coming back to city 3:\n",
      "Distance is : 35\n",
      "Path is : 3 -> 1 -> 2 -> 4 -> 3\n",
      "\n",
      "Shortest path from city 4 and coming back to city 4:\n",
      "Distance is : 35\n",
      "Path is : 4 -> 3 -> 1 -> 2 -> 4\n",
      "\n"
     ]
    }
   ],
   "source": [
    "for curr in range(4):\n",
    "    start = curr\n",
    "    distance, path = f(cost_matrix, start,total)\n",
    "    final_path = \" -> \".join(str(city + 1) for city in path)\n",
    "    print(f\"Shortest path from city {start + 1} and coming back to city {start + 1}:\")\n",
    "    print(f\"Distance is : {distance}\")\n",
    "    print(f\"Path is : {final_path}\\n\")"
   ]
  },
  {
   "cell_type": "markdown",
   "id": "2742f8f1",
   "metadata": {},
   "source": [
    "## Approach 2\n",
    "### Instead of the remaining set we can also have a visited array which is intialized with 0s and then as we visit the cities we mark 1 at the city index in the array and when sum of all elements of array = total cities then we have visited all the cities"
   ]
  },
  {
   "cell_type": "code",
   "execution_count": 91,
   "id": "e247c939",
   "metadata": {},
   "outputs": [],
   "source": [
    "def f(cost_matrix, start, total):\n",
    "    def tsp(i, visited):\n",
    "        if sum(visited) == total:\n",
    "            if i != start:\n",
    "                return (cost_matrix[i][start], [i, start])  \n",
    "            else: \n",
    "                return (99999999, [])\n",
    "        else:\n",
    "            min_dist = 99999999\n",
    "            min_path = []\n",
    "            for j in range(total):\n",
    "                if j != i and visited[j] == 0:\n",
    "                    visited[j] = 1\n",
    "                    dist, path = tsp(j, visited)\n",
    "                    visited[j] = 0\n",
    "                    dist += cost_matrix[i][j]\n",
    "                    if dist < min_dist:\n",
    "                        min_dist = dist\n",
    "                        min_path = [i] + path\n",
    "            return min_dist, min_path\n",
    "\n",
    "    visited = [0] * total\n",
    "    visited[start] = 1  \n",
    "    min_dist, min_path = tsp(start, visited)\n",
    "    return min_dist, min_path"
   ]
  },
  {
   "cell_type": "code",
   "execution_count": null,
   "id": "583ef7ed",
   "metadata": {
    "scrolled": true
   },
   "outputs": [],
   "source": []
  },
  {
   "cell_type": "markdown",
   "id": "29778a0d",
   "metadata": {},
   "source": []
  },
  {
   "cell_type": "code",
   "execution_count": null,
   "id": "d2a23100",
   "metadata": {},
   "outputs": [],
   "source": []
  },
  {
   "cell_type": "code",
   "execution_count": null,
   "id": "424a0a7c",
   "metadata": {},
   "outputs": [],
   "source": []
  }
 ],
 "metadata": {
  "kernelspec": {
   "display_name": "Python 3 (ipykernel)",
   "language": "python",
   "name": "python3"
  },
  "language_info": {
   "codemirror_mode": {
    "name": "ipython",
    "version": 3
   },
   "file_extension": ".py",
   "mimetype": "text/x-python",
   "name": "python",
   "nbconvert_exporter": "python",
   "pygments_lexer": "ipython3",
   "version": "3.11.4"
  }
 },
 "nbformat": 4,
 "nbformat_minor": 5
}
