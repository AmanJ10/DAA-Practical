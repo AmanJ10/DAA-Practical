{
 "cells": [
  {
   "cell_type": "markdown",
   "id": "1c10a53c",
   "metadata": {},
   "source": [
    "# DAA Lab - Practical - 2\n",
    "## Name : Aman Joharapurkar \n",
    "## Roll No : A-32\n",
    "\n",
    "### Aim :\n",
    "Aim: \n",
    "Construction of Minimum Spanning Tree     \n",
    "$ Problem Statement: $    A telecommunications organization has offices spanned across multiple\n",
    "locations around the globe. It has to use leased phone lines for connecting all these offices with\n",
    "each other. The organization, wants to use minimum cost for connecting all its offices. This\n",
    "requires that all the offices should be connected using a minimum number of leased lines so as to\n",
    "reduce the effective cost.                                \n",
    "A. Consider the following for deciding connections in same state in India:       \n",
    "i. Find the latitude and longitude of cities in same state. Consider 4 to 6 cities.      \n",
    "ii. Calculate the cost of connecting each pair of offices by computing the distance between different pair of different cities (as considered in part A) and construct a\n",
    "fully connected graph.      \n",
    "iii. Compute a minimum spanning tree using either Prims or Kruskals Method to find the       \n",
    "cost of connecting offices in different cities.              \n",
    "B. Repeat the above for cities in different states.    \n"
   ]
  },
  {
   "cell_type": "code",
   "execution_count": 1,
   "id": "41eb1ecd",
   "metadata": {},
   "outputs": [],
   "source": [
    "import os\n",
    "import pandas as pd\n",
    "import numpy as np\n",
    "from matplotlib import pyplot as plt\n",
    "import time"
   ]
  },
  {
   "cell_type": "markdown",
   "id": "dfd877e4",
   "metadata": {},
   "source": [
    "## Prims Algorithm"
   ]
  },
  {
   "cell_type": "code",
   "execution_count": 13,
   "id": "477cf7ee",
   "metadata": {},
   "outputs": [],
   "source": [
    "def first_step(m):\n",
    "    row = -1\n",
    "    col = -1\n",
    "    min_element = 9999999\n",
    "    for i in range(len(m)):\n",
    "        for j in range(i+1, len(m)):\n",
    "            if m[i][j] < min_element :\n",
    "                row = i\n",
    "                col = j\n",
    "                min_element = m[i][j]\n",
    "    return row, col    "
   ]
  },
  {
   "cell_type": "code",
   "execution_count": 14,
   "id": "59b9444e",
   "metadata": {},
   "outputs": [],
   "source": [
    "def prims(m):\n",
    "    ttf = []\n",
    "    near = []\n",
    "    k, l = first_step(m)\n",
    "    mincost = m[k][l]\n",
    "    t1 = [k, l, m[k][l]]\n",
    "    ttf.append(t1)\n",
    "    for i in range(0, len(m)):\n",
    "        if i == k or i == l :\n",
    "            near.append(99)\n",
    "        elif m[i][k] < m[i][l] :\n",
    "            near.append(k)\n",
    "        elif m[i][k] > m[i][l] :\n",
    "            near.append(l)\n",
    "    print(\"Near Array : \")\n",
    "    print(near)\n",
    "    index = -1\n",
    "   \n",
    "    for i in range(1, len(m) - 1):\n",
    "        min_elem = 99999999\n",
    "       \n",
    "        for j in range(0, len(near)):\n",
    "            if near[j] != 99 :\n",
    "                if m[j][near[j]] < min_elem :\n",
    "                    min_elem = m[j][near[j]]\n",
    "                    index = j\n",
    "       \n",
    "        t1 = [index, near[index], m[index][near[index]]]\n",
    "        mincost = mincost + m[index][near[index]]\n",
    "        near[index] = 99\n",
    "        ttf.append(t1)\n",
    "\n",
    "        for k in range(0, len(m)):\n",
    "            if (near[k] != 99 and m[k][near[k]] > m[k][index]) :\n",
    "                near[k] = index\n",
    "        print(near)\n",
    "    print(\"TTF\")\n",
    "    for i in range(0, len(ttf)) :\n",
    "        print(ttf[i])\n",
    "    print(f\"Total Minimum Distance is: {round(mincost, 2)}\")"
   ]
  },
  {
   "cell_type": "code",
   "execution_count": 56,
   "id": "9ec77a54",
   "metadata": {},
   "outputs": [],
   "source": [
    "time_outside_state = []\n",
    "time_within_state = []"
   ]
  },
  {
   "cell_type": "markdown",
   "id": "bb06fd9e",
   "metadata": {},
   "source": [
    "## Taking 6 cities in India\n",
    "### Nagpur\n",
    "### Mumbai\n",
    "### Delhi\n",
    "### Ahemdabad\n",
    "### Amritsar\n",
    "### Bangalore"
   ]
  },
  {
   "cell_type": "markdown",
   "id": "3152bf2d",
   "metadata": {},
   "source": [
    "## Finding Latitudes and Longitudes of each city using geopy library"
   ]
  },
  {
   "cell_type": "code",
   "execution_count": 5,
   "id": "afeb4c67",
   "metadata": {},
   "outputs": [
    {
     "name": "stdout",
     "output_type": "stream",
     "text": [
      "Collecting geopy\n",
      "  Obtaining dependency information for geopy from https://files.pythonhosted.org/packages/e1/58/9289c6a03116025cdb61461d99b2493daa4967a80b13755463d71a0affeb/geopy-2.4.0-py3-none-any.whl.metadata\n",
      "  Downloading geopy-2.4.0-py3-none-any.whl.metadata (6.8 kB)\n",
      "Collecting geographiclib<3,>=1.52 (from geopy)\n",
      "  Downloading geographiclib-2.0-py3-none-any.whl (40 kB)\n",
      "     ---------------------------------------- 0.0/40.3 kB ? eta -:--:--\n",
      "     -------------------------------------- 40.3/40.3 kB 970.5 kB/s eta 0:00:00\n",
      "Downloading geopy-2.4.0-py3-none-any.whl (125 kB)\n",
      "   ---------------------------------------- 0.0/125.4 kB ? eta -:--:--\n",
      "   ------------- -------------------------- 41.0/125.4 kB ? eta -:--:--\n",
      "   ---------------------------------------- 125.4/125.4 kB 1.8 MB/s eta 0:00:00\n",
      "Installing collected packages: geographiclib, geopy\n",
      "Successfully installed geographiclib-2.0 geopy-2.4.0\n"
     ]
    }
   ],
   "source": [
    "!pip install geopy"
   ]
  },
  {
   "cell_type": "code",
   "execution_count": 2,
   "id": "2a8c6a25",
   "metadata": {},
   "outputs": [],
   "source": [
    "from geopy.geocoders import Nominatim"
   ]
  },
  {
   "cell_type": "code",
   "execution_count": 3,
   "id": "16297a75",
   "metadata": {},
   "outputs": [
    {
     "name": "stdout",
     "output_type": "stream",
     "text": [
      "(21.1498134, 79.0820556)\n"
     ]
    }
   ],
   "source": [
    "# For Nagpur\n",
    "geolocator = Nominatim(user_agent=\"Distance-Calculator\")\n",
    "location = geolocator.geocode(\"Nagpur\")\n",
    "print((location.latitude, location.longitude))"
   ]
  },
  {
   "cell_type": "code",
   "execution_count": 4,
   "id": "c60cc0f5",
   "metadata": {},
   "outputs": [
    {
     "name": "stdout",
     "output_type": "stream",
     "text": [
      "(19.0785451, 72.878176)\n"
     ]
    }
   ],
   "source": [
    "# For Mumbai\n",
    "geolocator = Nominatim(user_agent=\"Distance-Calculator\")\n",
    "location = geolocator.geocode(\"Mumbai\")\n",
    "print((location.latitude, location.longitude))"
   ]
  },
  {
   "cell_type": "code",
   "execution_count": 5,
   "id": "f5fcf57e",
   "metadata": {},
   "outputs": [
    {
     "name": "stdout",
     "output_type": "stream",
     "text": [
      "(28.6273928, 77.1716954)\n"
     ]
    }
   ],
   "source": [
    "# For Delhi\n",
    "geolocator = Nominatim(user_agent=\"Distance-Calculator\")\n",
    "location = geolocator.geocode(\"Delhi\")\n",
    "print((location.latitude, location.longitude))"
   ]
  },
  {
   "cell_type": "code",
   "execution_count": 6,
   "id": "1464b912",
   "metadata": {},
   "outputs": [
    {
     "name": "stdout",
     "output_type": "stream",
     "text": [
      "(23.0216238, 72.5797068)\n"
     ]
    }
   ],
   "source": [
    "# For Ahmedabad\n",
    "geolocator = Nominatim(user_agent=\"Distance-Calculator\")\n",
    "location = geolocator.geocode(\"Ahmedabad\")\n",
    "print((location.latitude, location.longitude))"
   ]
  },
  {
   "cell_type": "code",
   "execution_count": 7,
   "id": "915f5d73",
   "metadata": {},
   "outputs": [
    {
     "name": "stdout",
     "output_type": "stream",
     "text": [
      "(31.6343083, 74.8736788)\n"
     ]
    }
   ],
   "source": [
    "# For Amritsar\n",
    "geolocator = Nominatim(user_agent=\"Distance-Calculator\")\n",
    "location = geolocator.geocode(\"Amritsar\")\n",
    "print((location.latitude, location.longitude))"
   ]
  },
  {
   "cell_type": "markdown",
   "id": "63b47ba4",
   "metadata": {},
   "source": [
    "## Finding Distances of each city from one another using geopy library"
   ]
  },
  {
   "cell_type": "code",
   "execution_count": 8,
   "id": "46dc421d",
   "metadata": {},
   "outputs": [
    {
     "name": "stdout",
     "output_type": "stream",
     "text": [
      "['Nagpur', 'Mumbai', 'Delhi', 'Ahmedabad', 'Amritsar', 'Bengaluru']\n"
     ]
    }
   ],
   "source": [
    "cities = [\"Nagpur\",\"Mumbai\",\"Delhi\",\"Ahmedabad\",\"Amritsar\",\"Bengaluru\"];\n",
    "print(cities)"
   ]
  },
  {
   "cell_type": "code",
   "execution_count": 9,
   "id": "d8d4db87",
   "metadata": {},
   "outputs": [],
   "source": [
    "geolocator = Nominatim(user_agent=\"Distance-Calculator\")"
   ]
  },
  {
   "cell_type": "code",
   "execution_count": 10,
   "id": "534249a6",
   "metadata": {},
   "outputs": [
    {
     "name": "stdout",
     "output_type": "stream",
     "text": [
      "433.1425428591388\n"
     ]
    }
   ],
   "source": [
    "# Sample Calculation\n",
    "from geopy.distance import geodesic\n",
    "\n",
    "Nagpur = (21.1498134, 79.0820556)\n",
    "Mumbai = (18.9733536, 72.82810491917377)\n",
    "nm1=geodesic(Nagpur, Mumbai).miles\n",
    "print(nm1)"
   ]
  },
  {
   "cell_type": "code",
   "execution_count": 22,
   "id": "b54a484a",
   "metadata": {},
   "outputs": [],
   "source": [
    "m = []\n",
    "for i in range(0,len(cities)):\n",
    "    a = []\n",
    "    for j in range(0,len(cities)):\n",
    "        if(i == j):\n",
    "            a.append(99);\n",
    "        else:\n",
    "            location_1 = geolocator.geocode(cities[i])\n",
    "            location_2 = geolocator.geocode(cities[j])\n",
    "            city1 = (location_1.latitude, location_1.longitude)\n",
    "            city2 = (location_2.latitude, location_2.longitude)\n",
    "            distance = geodesic(city1, city2).miles\n",
    "            a.append(round(distance, 2))\n",
    "            \n",
    "    m.append(a)"
   ]
  },
  {
   "cell_type": "code",
   "execution_count": 23,
   "id": "83a53e6a",
   "metadata": {},
   "outputs": [
    {
     "name": "stdout",
     "output_type": "stream",
     "text": [
      "Adjacency Matrix is : \n",
      "[99, 427.5, 528.45, 436.35, 767.3, 570.62]\n",
      "[427.5, 99, 710.95, 271.96, 873.2, 523.54]\n",
      "[528.45, 710.95, 99, 480.26, 248.64, 1077.07]\n",
      "[436.35, 271.96, 480.26, 99, 609.51, 765.24]\n",
      "[767.3, 873.2, 248.64, 609.51, 99, 1295.42]\n",
      "[570.62, 523.54, 1077.07, 765.24, 1295.42, 99]\n"
     ]
    }
   ],
   "source": [
    "print(\"Adjacency Matrix is : \")\n",
    "for i in range(0,len(m)):\n",
    "    print(m[i])"
   ]
  },
  {
   "cell_type": "markdown",
   "id": "b5a337ed",
   "metadata": {},
   "source": [
    "## For 6 different cities all over India"
   ]
  },
  {
   "cell_type": "code",
   "execution_count": 57,
   "id": "d2f80e23",
   "metadata": {
    "scrolled": true
   },
   "outputs": [
    {
     "name": "stdout",
     "output_type": "stream",
     "text": [
      "Near Array : \n",
      "[2, 2, 99, 2, 99, 2]\n",
      "[3, 3, 99, 99, 99, 3]\n",
      "[1, 99, 99, 99, 99, 1]\n",
      "[99, 99, 99, 99, 99, 1]\n",
      "[99, 99, 99, 99, 99, 99]\n",
      "TTF\n",
      "[2, 4, 248.64]\n",
      "[3, 2, 480.26]\n",
      "[1, 3, 271.96]\n",
      "[0, 1, 427.5]\n",
      "[5, 1, 523.54]\n",
      "Total Minimum Distance is: 1951.9\n",
      "The time required is 0.0010983999818563461\n"
     ]
    }
   ],
   "source": [
    "start = time.perf_counter()\n",
    "prims(m)\n",
    "end = time.perf_counter()\n",
    "timetaken = end - start\n",
    "print(\"The time required is\" ,timetaken)\n",
    "time_outside_state.append(timetaken)"
   ]
  },
  {
   "cell_type": "code",
   "execution_count": null,
   "id": "cc3efc59",
   "metadata": {},
   "outputs": [],
   "source": []
  },
  {
   "cell_type": "markdown",
   "id": "edf064b5",
   "metadata": {},
   "source": [
    "## For 5 different cities all over India"
   ]
  },
  {
   "cell_type": "code",
   "execution_count": 44,
   "id": "e1cdd97b",
   "metadata": {},
   "outputs": [
    {
     "name": "stdout",
     "output_type": "stream",
     "text": [
      "['Nagpur', 'Mumbai', 'Delhi', 'Ahmedabad', 'Amritsar']\n"
     ]
    }
   ],
   "source": [
    "cities = [\"Nagpur\",\"Mumbai\",\"Delhi\",\"Ahmedabad\",\"Amritsar\"];\n",
    "print(cities)"
   ]
  },
  {
   "cell_type": "code",
   "execution_count": 45,
   "id": "da1e96b4",
   "metadata": {},
   "outputs": [],
   "source": [
    "m_4 = []\n",
    "for i in range(0,len(cities)):\n",
    "    a = []\n",
    "    for j in range(0,len(cities)):\n",
    "        if(i == j):\n",
    "            a.append(99);\n",
    "        else:\n",
    "            location_1 = geolocator.geocode(cities[i])\n",
    "            location_2 = geolocator.geocode(cities[j])\n",
    "            city1 = (location_1.latitude, location_1.longitude)\n",
    "            city2 = (location_2.latitude, location_2.longitude)\n",
    "            distance = geodesic(city1, city2).miles\n",
    "            a.append(round(distance, 2))\n",
    "            \n",
    "    m_4.append(a)"
   ]
  },
  {
   "cell_type": "code",
   "execution_count": 46,
   "id": "78d60cfa",
   "metadata": {},
   "outputs": [
    {
     "name": "stdout",
     "output_type": "stream",
     "text": [
      "Adjacency Matrix is : \n",
      "[99, 427.5, 528.45, 436.35, 767.3]\n",
      "[427.5, 99, 710.95, 271.96, 873.2]\n",
      "[528.45, 710.95, 99, 480.26, 248.64]\n",
      "[436.35, 271.96, 480.26, 99, 609.51]\n",
      "[767.3, 873.2, 248.64, 609.51, 99]\n"
     ]
    }
   ],
   "source": [
    "print(\"Adjacency Matrix is : \")\n",
    "for i in range(0,len(m_4)):\n",
    "    print(m_4[i])"
   ]
  },
  {
   "cell_type": "code",
   "execution_count": 58,
   "id": "af582cc3",
   "metadata": {},
   "outputs": [
    {
     "name": "stdout",
     "output_type": "stream",
     "text": [
      "Near Array : \n",
      "[2, 2, 99, 2, 99]\n",
      "[3, 3, 99, 99, 99]\n",
      "[1, 99, 99, 99, 99]\n",
      "[99, 99, 99, 99, 99]\n",
      "TTF\n",
      "[2, 4, 248.64]\n",
      "[3, 2, 480.26]\n",
      "[1, 3, 271.96]\n",
      "[0, 1, 427.5]\n",
      "Total Minimum Distance is: 1428.36\n",
      "The time required is 0.0005737999454140663\n"
     ]
    }
   ],
   "source": [
    "start = time.perf_counter()\n",
    "prims(m_4)\n",
    "end = time.perf_counter()\n",
    "timetaken_4 = end - start\n",
    "print(\"The time required is\" ,timetaken_4)\n",
    "time_outside_state.append(timetaken_4)"
   ]
  },
  {
   "cell_type": "markdown",
   "id": "a603ba85",
   "metadata": {},
   "source": [
    "## For 4 different cities all over India"
   ]
  },
  {
   "cell_type": "code",
   "execution_count": 48,
   "id": "feaa9b80",
   "metadata": {},
   "outputs": [
    {
     "name": "stdout",
     "output_type": "stream",
     "text": [
      "['Nagpur', 'Mumbai', 'Delhi', 'Ahmedabad']\n"
     ]
    }
   ],
   "source": [
    "cities = [\"Nagpur\",\"Mumbai\",\"Delhi\",\"Ahmedabad\"];\n",
    "print(cities)"
   ]
  },
  {
   "cell_type": "code",
   "execution_count": 49,
   "id": "ca5646c5",
   "metadata": {},
   "outputs": [],
   "source": [
    "m_5 = []\n",
    "for i in range(0,len(cities)):\n",
    "    a = []\n",
    "    for j in range(0,len(cities)):\n",
    "        if(i == j):\n",
    "            a.append(99);\n",
    "        else:\n",
    "            location_1 = geolocator.geocode(cities[i])\n",
    "            location_2 = geolocator.geocode(cities[j])\n",
    "            city1 = (location_1.latitude, location_1.longitude)\n",
    "            city2 = (location_2.latitude, location_2.longitude)\n",
    "            distance = geodesic(city1, city2).miles\n",
    "            a.append(round(distance, 2))\n",
    "            \n",
    "    m_5.append(a)"
   ]
  },
  {
   "cell_type": "code",
   "execution_count": 50,
   "id": "509cb5be",
   "metadata": {},
   "outputs": [
    {
     "name": "stdout",
     "output_type": "stream",
     "text": [
      "Adjacency Matrix is : \n",
      "[99, 427.5, 528.45, 436.35]\n",
      "[427.5, 99, 710.95, 271.96]\n",
      "[528.45, 710.95, 99, 480.26]\n",
      "[436.35, 271.96, 480.26, 99]\n"
     ]
    }
   ],
   "source": [
    "print(\"Adjacency Matrix is : \")\n",
    "for i in range(0,len(m_5)):\n",
    "    print(m_5[i])"
   ]
  },
  {
   "cell_type": "code",
   "execution_count": 59,
   "id": "db01e50f",
   "metadata": {},
   "outputs": [
    {
     "name": "stdout",
     "output_type": "stream",
     "text": [
      "Near Array : \n",
      "[1, 99, 3, 99]\n",
      "[99, 99, 3, 99]\n",
      "[99, 99, 99, 99]\n",
      "TTF\n",
      "[1, 3, 271.96]\n",
      "[0, 1, 427.5]\n",
      "[2, 3, 480.26]\n",
      "Total Minimum Distance is: 1179.72\n",
      "The time required is 0.0006656000041402876\n"
     ]
    }
   ],
   "source": [
    "start = time.perf_counter()\n",
    "prims(m_5)\n",
    "end = time.perf_counter()\n",
    "timetaken_5 = end - start\n",
    "print(\"The time required is\" ,timetaken_5)\n",
    "time_outside_state.append(timetaken_5)"
   ]
  },
  {
   "cell_type": "code",
   "execution_count": null,
   "id": "295c4d67",
   "metadata": {},
   "outputs": [],
   "source": []
  },
  {
   "cell_type": "code",
   "execution_count": null,
   "id": "94cfbd81",
   "metadata": {},
   "outputs": [],
   "source": []
  },
  {
   "cell_type": "markdown",
   "id": "1bc1b945",
   "metadata": {},
   "source": [
    "## For 6 different cities in Maharashtra"
   ]
  },
  {
   "cell_type": "code",
   "execution_count": 33,
   "id": "9d299848",
   "metadata": {},
   "outputs": [],
   "source": [
    "cities_1 = [\"Nagpur\",\"Mumbai\",\"Pune\",\"Nashik\",\"Aurangabad\",\"Yavatmal\"]"
   ]
  },
  {
   "cell_type": "code",
   "execution_count": 30,
   "id": "06220824",
   "metadata": {},
   "outputs": [],
   "source": [
    "m_1 = []\n",
    "for i in range(0,len(cities_1)):\n",
    "    a = []\n",
    "    for j in range(0,len(cities_1)):\n",
    "        if(i == j):\n",
    "            a.append(99);\n",
    "        else:\n",
    "            location_1 = geolocator.geocode(cities_1[i])\n",
    "            location_2 = geolocator.geocode(cities_1[j])\n",
    "            city1 = (location_1.latitude, location_1.longitude)\n",
    "            city2 = (location_2.latitude, location_2.longitude)\n",
    "            distance = geodesic(city1, city2).miles\n",
    "            a.append(round(distance, 2))\n",
    "            \n",
    "    m_1.append(a)"
   ]
  },
  {
   "cell_type": "code",
   "execution_count": 31,
   "id": "84dce51a",
   "metadata": {},
   "outputs": [
    {
     "name": "stdout",
     "output_type": "stream",
     "text": [
      "Adjacency Matrix is : \n",
      "[99, 427.5, 385.28, 351.63, 257.89, 84.21]\n",
      "[427.5, 99, 74.55, 87.48, 169.67, 352.01]\n",
      "[385.28, 74.55, 99, 102.56, 134.56, 304.71]\n",
      "[351.63, 87.48, 102.56, 99, 101.17, 281.98]\n",
      "[257.89, 169.67, 134.56, 101.17, 99, 183.26]\n",
      "[84.21, 352.01, 304.71, 281.98, 183.26, 99]\n"
     ]
    }
   ],
   "source": [
    "print(\"Adjacency Matrix is : \")\n",
    "for i in range(0,len(m_1)):\n",
    "    print(m_1[i])"
   ]
  },
  {
   "cell_type": "code",
   "execution_count": 60,
   "id": "78ccea26",
   "metadata": {},
   "outputs": [
    {
     "name": "stdout",
     "output_type": "stream",
     "text": [
      "Near Array : \n",
      "[2, 99, 99, 1, 2, 2]\n",
      "[3, 99, 99, 99, 3, 3]\n",
      "[4, 99, 99, 99, 99, 4]\n",
      "[5, 99, 99, 99, 99, 99]\n",
      "[99, 99, 99, 99, 99, 99]\n",
      "TTF\n",
      "[1, 2, 74.55]\n",
      "[3, 1, 87.48]\n",
      "[4, 3, 101.17]\n",
      "[5, 4, 183.26]\n",
      "[0, 5, 84.21]\n",
      "Total Minimum Distance is: 530.67\n",
      "The time required is 0.0003918000147677958\n"
     ]
    }
   ],
   "source": [
    "start = time.perf_counter()\n",
    "prims(m_1)\n",
    "end = time.perf_counter()\n",
    "timetaken_1 = end - start\n",
    "print(\"The time required is\" ,timetaken_1)\n",
    "time_within_state.append(timetaken_1)"
   ]
  },
  {
   "cell_type": "code",
   "execution_count": null,
   "id": "2dbced96",
   "metadata": {},
   "outputs": [],
   "source": []
  },
  {
   "cell_type": "markdown",
   "id": "5db8b47c",
   "metadata": {},
   "source": [
    "## For 5 different cities within Maharashtra"
   ]
  },
  {
   "cell_type": "code",
   "execution_count": 35,
   "id": "9a6228b8",
   "metadata": {},
   "outputs": [],
   "source": [
    "cities_1 = [\"Nagpur\",\"Mumbai\",\"Pune\",\"Nashik\",\"Aurangabad\"]"
   ]
  },
  {
   "cell_type": "code",
   "execution_count": 36,
   "id": "75723b57",
   "metadata": {},
   "outputs": [],
   "source": [
    "m_2 = []\n",
    "for i in range(0,len(cities_1)):\n",
    "    a = []\n",
    "    for j in range(0,len(cities_1)):\n",
    "        if(i == j):\n",
    "            a.append(99);\n",
    "        else:\n",
    "            location_1 = geolocator.geocode(cities_1[i])\n",
    "            location_2 = geolocator.geocode(cities_1[j])\n",
    "            city1 = (location_1.latitude, location_1.longitude)\n",
    "            city2 = (location_2.latitude, location_2.longitude)\n",
    "            distance = geodesic(city1, city2).miles\n",
    "            a.append(round(distance, 2))\n",
    "            \n",
    "    m_2.append(a)"
   ]
  },
  {
   "cell_type": "code",
   "execution_count": 37,
   "id": "4468eba8",
   "metadata": {},
   "outputs": [
    {
     "name": "stdout",
     "output_type": "stream",
     "text": [
      "Adjacency Matrix is : \n",
      "[99, 427.5, 385.28, 351.63, 257.89]\n",
      "[427.5, 99, 74.55, 87.48, 169.67]\n",
      "[385.28, 74.55, 99, 102.56, 134.56]\n",
      "[351.63, 87.48, 102.56, 99, 101.17]\n",
      "[257.89, 169.67, 134.56, 101.17, 99]\n"
     ]
    }
   ],
   "source": [
    "print(\"Adjacency Matrix is : \")\n",
    "for i in range(0,len(m_2)):\n",
    "    print(m_2[i])"
   ]
  },
  {
   "cell_type": "code",
   "execution_count": 61,
   "id": "c78454cd",
   "metadata": {},
   "outputs": [
    {
     "name": "stdout",
     "output_type": "stream",
     "text": [
      "Near Array : \n",
      "[2, 99, 99, 1, 2]\n",
      "[3, 99, 99, 99, 3]\n",
      "[4, 99, 99, 99, 99]\n",
      "[99, 99, 99, 99, 99]\n",
      "TTF\n",
      "[1, 2, 74.55]\n",
      "[3, 1, 87.48]\n",
      "[4, 3, 101.17]\n",
      "[0, 4, 257.89]\n",
      "Total Minimum Distance is: 521.09\n",
      "The time required is 0.0008699999889358878\n"
     ]
    }
   ],
   "source": [
    "start = time.perf_counter()\n",
    "prims(m_2)\n",
    "end = time.perf_counter()\n",
    "timetaken_2 = end - start\n",
    "print(\"The time required is\" ,timetaken_2)\n",
    "time_within_state.append(timetaken_2)"
   ]
  },
  {
   "cell_type": "code",
   "execution_count": null,
   "id": "3d46ee52",
   "metadata": {},
   "outputs": [],
   "source": []
  },
  {
   "cell_type": "markdown",
   "id": "7c5c9143",
   "metadata": {},
   "source": [
    "## For 4 different cities within Maharashtra"
   ]
  },
  {
   "cell_type": "code",
   "execution_count": 41,
   "id": "e78fce25",
   "metadata": {},
   "outputs": [],
   "source": [
    "cities_1 = [\"Nagpur\",\"Mumbai\",\"Pune\",\"Nashik\"]"
   ]
  },
  {
   "cell_type": "code",
   "execution_count": 42,
   "id": "d0b83a86",
   "metadata": {},
   "outputs": [],
   "source": [
    "m_3 = []\n",
    "for i in range(0,len(cities_1)):\n",
    "    a = []\n",
    "    for j in range(0,len(cities_1)):\n",
    "        if(i == j):\n",
    "            a.append(99);\n",
    "        else:\n",
    "            location_1 = geolocator.geocode(cities_1[i])\n",
    "            location_2 = geolocator.geocode(cities_1[j])\n",
    "            city1 = (location_1.latitude, location_1.longitude)\n",
    "            city2 = (location_2.latitude, location_2.longitude)\n",
    "            distance = geodesic(city1, city2).miles\n",
    "            a.append(round(distance, 2))\n",
    "            \n",
    "    m_3.append(a)"
   ]
  },
  {
   "cell_type": "code",
   "execution_count": 62,
   "id": "a570eedb",
   "metadata": {},
   "outputs": [
    {
     "name": "stdout",
     "output_type": "stream",
     "text": [
      "Near Array : \n",
      "[2, 99, 99, 1]\n",
      "[3, 99, 99, 99]\n",
      "[99, 99, 99, 99]\n",
      "TTF\n",
      "[1, 2, 74.55]\n",
      "[3, 1, 87.48]\n",
      "[0, 3, 351.63]\n",
      "Total Minimum Distance is: 513.66\n",
      "The time required is 0.00044190004700794816\n"
     ]
    }
   ],
   "source": [
    "start = time.perf_counter()\n",
    "prims(m_3)\n",
    "end = time.perf_counter()\n",
    "timetaken_3 = end - start\n",
    "print(\"The time required is\" ,timetaken_3)\n",
    "time_within_state.append(timetaken_3)"
   ]
  },
  {
   "cell_type": "code",
   "execution_count": null,
   "id": "8d3fcea0",
   "metadata": {},
   "outputs": [],
   "source": []
  },
  {
   "cell_type": "code",
   "execution_count": 63,
   "id": "c74f6086",
   "metadata": {},
   "outputs": [
    {
     "name": "stdout",
     "output_type": "stream",
     "text": [
      "[0.0003918000147677958, 0.0008699999889358878, 0.00044190004700794816]\n"
     ]
    }
   ],
   "source": [
    "print(time_within_state)"
   ]
  },
  {
   "cell_type": "code",
   "execution_count": 64,
   "id": "f136f4f3",
   "metadata": {},
   "outputs": [
    {
     "name": "stdout",
     "output_type": "stream",
     "text": [
      "[0.0010983999818563461, 0.0005737999454140663, 0.0006656000041402876]\n"
     ]
    }
   ],
   "source": [
    "print(time_outside_state)"
   ]
  },
  {
   "cell_type": "code",
   "execution_count": 66,
   "id": "7c70e8ff",
   "metadata": {},
   "outputs": [
    {
     "data": {
      "image/png": "[encoded data removed]",
      "text/plain": [
       "<Figure size 640x480 with 1 Axes>"
      ]
     },
     "metadata": {},
     "output_type": "display_data"
    }
   ],
   "source": [
    "import matplotlib.pyplot as plt\n",
    "import numpy as np\n",
    "x = np.array([\"4\", \"5\", \"6\"])\n",
    "tw = np.array(time_within_state)\n",
    "to = np.array(time_outside_state)\n",
    "X_axis = np.arange(len(x))\n",
    "plt.bar(X_axis - 0.2, tw, 0.4, label='Within State')\n",
    "plt.bar(X_axis + 0.2, to, 0.4, label='Outside State')\n",
    "plt.legend()\n",
    "plt.show()"
   ]
  },
  {
   "cell_type": "code",
   "execution_count": null,
   "id": "cca6ead8",
   "metadata": {},
   "outputs": [],
   "source": []
  }
 ],
 "metadata": {
  "kernelspec": {
   "display_name": "Python 3 (ipykernel)",
   "language": "python",
   "name": "python3"
  },
  "language_info": {
   "codemirror_mode": {
    "name": "ipython",
    "version": 3
   },
   "file_extension": ".py",
   "mimetype": "text/x-python",
   "name": "python",
   "nbconvert_exporter": "python",
   "pygments_lexer": "ipython3",
   "version": "3.11.4"
  }
 },
 "nbformat": 4,
 "nbformat_minor": 5
}
