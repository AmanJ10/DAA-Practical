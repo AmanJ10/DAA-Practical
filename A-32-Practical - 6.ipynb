{
 "cells": [
  {
   "cell_type": "markdown",
   "id": "f7ba2f7f",
   "metadata": {},
   "source": [
    "# DAA Lab - Practical - 6\n",
    "## Name : Aman Joharapurkar \n",
    "## Roll No : A-32\n",
    "\n",
    "### Aim : \n",
    "Implement Longest Common Subsequence (LCS) algorithm to find the length and LCS\n",
    "for DNA sequences.\n",
    "<b>Problem Definition:</b>DNA sequences can be viewed as strings of A, C, G, and T characters, which represent\n",
    "nucleotides. Finding the similarities between two DNA sequences are an important\n",
    "computation performed in bioinformatics.\n",
    "[Note that a subsequence might not include consecutive elements of the original sequence.]\n",
    "\n",
    "<b>TASK-1:</b> Find the similarity between the given X and Y sequence.              \n",
    "X=AGCCCTAAGGGCTACCTAGCTT             \n",
    "Y= GACAGCCTACAAGCGTTAGCTTG             \n",
    "Output: Cost matrix with all costs, final cost of LCS."
   ]
  },
  {
   "cell_type": "code",
   "execution_count": 1,
   "id": "36a5eb4d",
   "metadata": {},
   "outputs": [
    {
     "name": "stdout",
     "output_type": "stream",
     "text": [
      "String X : AGCCCTAAGGGCTACCTAGCTT\n",
      "String Y : GACAGCCTACAAGCGTTAGCTTG\n"
     ]
    }
   ],
   "source": [
    "str1 = \"AGCCCTAAGGGCTACCTAGCTT\"\n",
    "str2 = \"GACAGCCTACAAGCGTTAGCTTG\"\n",
    "print(\"String X : \" + str1  )\n",
    "print(\"String Y : \" + str2  )"
   ]
  },
  {
   "cell_type": "code",
   "execution_count": 2,
   "id": "c5468c75",
   "metadata": {},
   "outputs": [
    {
     "name": "stdout",
     "output_type": "stream",
     "text": [
      "Length of String A is : 23\n",
      "Length of String B is : 24\n"
     ]
    }
   ],
   "source": [
    "n = len(str1) +  1\n",
    "m = len(str2) +  1\n",
    "print(f\"Length of String A is : {n}\")\n",
    "print(f\"Length of String B is : {m}\")"
   ]
  },
  {
   "cell_type": "code",
   "execution_count": 3,
   "id": "d1a7364f",
   "metadata": {},
   "outputs": [],
   "source": [
    "dp = []\n",
    "def lcs():\n",
    "    for i in range(0,n):\n",
    "        ds = []\n",
    "        for j in range(0,m):\n",
    "            t = []\n",
    "            if(i == 0 or j == 0):\n",
    "                t.append(0)\n",
    "                t.append('H')\n",
    "            elif(str1[i-1] != str2[j-1]):\n",
    "                dir = ''\n",
    "                value = -1\n",
    "                if(dp[i-1][j][0] >= ds[j-1][0]):\n",
    "                    dir = 'U'\n",
    "                    value = dp[i-1][j][0]\n",
    "                else:\n",
    "                    dir = 'S'\n",
    "                    value = ds[j-1][0]\n",
    "                t.append(value)\n",
    "                t.append(dir)\n",
    "            elif(str1[i-1] == str2[j-1]):\n",
    "                value = dp[i-1][j-1][0] + 1\n",
    "                t.append(value)\n",
    "                t.append('D')\n",
    "            ds.append(t)\n",
    "        dp.append(ds)"
   ]
  },
  {
   "cell_type": "code",
   "execution_count": 4,
   "id": "5efa6202",
   "metadata": {},
   "outputs": [
    {
     "name": "stdout",
     "output_type": "stream",
     "text": [
      "[[0, 'H'], [0, 'H'], [0, 'H'], [0, 'H'], [0, 'H'], [0, 'H'], [0, 'H'], [0, 'H'], [0, 'H'], [0, 'H'], [0, 'H'], [0, 'H'], [0, 'H'], [0, 'H'], [0, 'H'], [0, 'H'], [0, 'H'], [0, 'H'], [0, 'H'], [0, 'H'], [0, 'H'], [0, 'H'], [0, 'H'], [0, 'H']]\n",
      "[[0, 'H'], [0, 'U'], [1, 'D'], [1, 'S'], [1, 'D'], [1, 'S'], [1, 'S'], [1, 'S'], [1, 'S'], [1, 'D'], [1, 'S'], [1, 'D'], [1, 'D'], [1, 'S'], [1, 'S'], [1, 'S'], [1, 'S'], [1, 'S'], [1, 'D'], [1, 'S'], [1, 'S'], [1, 'S'], [1, 'S'], [1, 'S']]\n",
      "[[0, 'H'], [1, 'D'], [1, 'U'], [1, 'U'], [1, 'U'], [2, 'D'], [2, 'S'], [2, 'S'], [2, 'S'], [2, 'S'], [2, 'S'], [2, 'S'], [2, 'S'], [2, 'D'], [2, 'S'], [2, 'D'], [2, 'S'], [2, 'S'], [2, 'S'], [2, 'D'], [2, 'S'], [2, 'S'], [2, 'S'], [2, 'D']]\n",
      "[[0, 'H'], [1, 'U'], [1, 'U'], [2, 'D'], [2, 'S'], [2, 'U'], [3, 'D'], [3, 'D'], [3, 'S'], [3, 'S'], [3, 'D'], [3, 'S'], [3, 'S'], [3, 'S'], [3, 'D'], [3, 'S'], [3, 'S'], [3, 'S'], [3, 'S'], [3, 'S'], [3, 'D'], [3, 'S'], [3, 'S'], [3, 'S']]\n",
      "[[0, 'H'], [1, 'U'], [1, 'U'], [2, 'D'], [2, 'U'], [2, 'U'], [3, 'D'], [4, 'D'], [4, 'S'], [4, 'S'], [4, 'D'], [4, 'S'], [4, 'S'], [4, 'S'], [4, 'D'], [4, 'S'], [4, 'S'], [4, 'S'], [4, 'S'], [4, 'S'], [4, 'D'], [4, 'S'], [4, 'S'], [4, 'S']]\n",
      "[[0, 'H'], [1, 'U'], [1, 'U'], [2, 'D'], [2, 'U'], [2, 'U'], [3, 'D'], [4, 'D'], [4, 'U'], [4, 'U'], [5, 'D'], [5, 'S'], [5, 'S'], [5, 'S'], [5, 'D'], [5, 'S'], [5, 'S'], [5, 'S'], [5, 'S'], [5, 'S'], [5, 'D'], [5, 'S'], [5, 'S'], [5, 'S']]\n",
      "[[0, 'H'], [1, 'U'], [1, 'U'], [2, 'U'], [2, 'U'], [2, 'U'], [3, 'U'], [4, 'U'], [5, 'D'], [5, 'S'], [5, 'U'], [5, 'U'], [5, 'U'], [5, 'U'], [5, 'U'], [5, 'U'], [6, 'D'], [6, 'D'], [6, 'S'], [6, 'S'], [6, 'S'], [6, 'D'], [6, 'D'], [6, 'S']]\n",
      "[[0, 'H'], [1, 'U'], [2, 'D'], [2, 'U'], [3, 'D'], [3, 'S'], [3, 'U'], [4, 'U'], [5, 'U'], [6, 'D'], [6, 'S'], [6, 'D'], [6, 'D'], [6, 'S'], [6, 'S'], [6, 'S'], [6, 'U'], [6, 'U'], [7, 'D'], [7, 'S'], [7, 'S'], [7, 'S'], [7, 'S'], [7, 'S']]\n",
      "[[0, 'H'], [1, 'U'], [2, 'D'], [2, 'U'], [3, 'D'], [3, 'U'], [3, 'U'], [4, 'U'], [5, 'U'], [6, 'D'], [6, 'U'], [7, 'D'], [7, 'D'], [7, 'S'], [7, 'S'], [7, 'S'], [7, 'S'], [7, 'S'], [7, 'D'], [7, 'U'], [7, 'U'], [7, 'U'], [7, 'U'], [7, 'U']]\n",
      "[[0, 'H'], [1, 'D'], [2, 'U'], [2, 'U'], [3, 'U'], [4, 'D'], [4, 'S'], [4, 'U'], [5, 'U'], [6, 'U'], [6, 'U'], [7, 'U'], [7, 'U'], [8, 'D'], [8, 'S'], [8, 'D'], [8, 'S'], [8, 'S'], [8, 'S'], [8, 'D'], [8, 'S'], [8, 'S'], [8, 'S'], [8, 'D']]\n",
      "[[0, 'H'], [1, 'D'], [2, 'U'], [2, 'U'], [3, 'U'], [4, 'D'], [4, 'U'], [4, 'U'], [5, 'U'], [6, 'U'], [6, 'U'], [7, 'U'], [7, 'U'], [8, 'D'], [8, 'U'], [9, 'D'], [9, 'S'], [9, 'S'], [9, 'S'], [9, 'D'], [9, 'S'], [9, 'S'], [9, 'S'], [9, 'D']]\n",
      "[[0, 'H'], [1, 'D'], [2, 'U'], [2, 'U'], [3, 'U'], [4, 'D'], [4, 'U'], [4, 'U'], [5, 'U'], [6, 'U'], [6, 'U'], [7, 'U'], [7, 'U'], [8, 'D'], [8, 'U'], [9, 'D'], [9, 'U'], [9, 'U'], [9, 'U'], [10, 'D'], [10, 'S'], [10, 'S'], [10, 'S'], [10, 'D']]\n",
      "[[0, 'H'], [1, 'U'], [2, 'U'], [3, 'D'], [3, 'U'], [4, 'U'], [5, 'D'], [5, 'D'], [5, 'U'], [6, 'U'], [7, 'D'], [7, 'U'], [7, 'U'], [8, 'U'], [9, 'D'], [9, 'U'], [9, 'U'], [9, 'U'], [9, 'U'], [10, 'U'], [11, 'D'], [11, 'S'], [11, 'S'], [11, 'S']]\n",
      "[[0, 'H'], [1, 'U'], [2, 'U'], [3, 'U'], [3, 'U'], [4, 'U'], [5, 'U'], [5, 'U'], [6, 'D'], [6, 'U'], [7, 'U'], [7, 'U'], [7, 'U'], [8, 'U'], [9, 'U'], [9, 'U'], [10, 'D'], [10, 'D'], [10, 'S'], [10, 'U'], [11, 'U'], [12, 'D'], [12, 'D'], [12, 'S']]\n",
      "[[0, 'H'], [1, 'U'], [2, 'D'], [3, 'U'], [4, 'D'], [4, 'U'], [5, 'U'], [5, 'U'], [6, 'U'], [7, 'D'], [7, 'U'], [8, 'D'], [8, 'D'], [8, 'U'], [9, 'U'], [9, 'U'], [10, 'U'], [10, 'U'], [11, 'D'], [11, 'S'], [11, 'U'], [12, 'U'], [12, 'U'], [12, 'U']]\n",
      "[[0, 'H'], [1, 'U'], [2, 'U'], [3, 'D'], [4, 'U'], [4, 'U'], [5, 'D'], [6, 'D'], [6, 'U'], [7, 'U'], [8, 'D'], [8, 'U'], [8, 'U'], [8, 'U'], [9, 'D'], [9, 'U'], [10, 'U'], [10, 'U'], [11, 'U'], [11, 'U'], [12, 'D'], [12, 'U'], [12, 'U'], [12, 'U']]\n",
      "[[0, 'H'], [1, 'U'], [2, 'U'], [3, 'D'], [4, 'U'], [4, 'U'], [5, 'D'], [6, 'D'], [6, 'U'], [7, 'U'], [8, 'D'], [8, 'U'], [8, 'U'], [8, 'U'], [9, 'D'], [9, 'U'], [10, 'U'], [10, 'U'], [11, 'U'], [11, 'U'], [12, 'D'], [12, 'U'], [12, 'U'], [12, 'U']]\n",
      "[[0, 'H'], [1, 'U'], [2, 'U'], [3, 'U'], [4, 'U'], [4, 'U'], [5, 'U'], [6, 'U'], [7, 'D'], [7, 'U'], [8, 'U'], [8, 'U'], [8, 'U'], [8, 'U'], [9, 'U'], [9, 'U'], [10, 'D'], [11, 'D'], [11, 'U'], [11, 'U'], [12, 'U'], [13, 'D'], [13, 'D'], [13, 'S']]\n",
      "[[0, 'H'], [1, 'U'], [2, 'D'], [3, 'U'], [4, 'D'], [4, 'U'], [5, 'U'], [6, 'U'], [7, 'U'], [8, 'D'], [8, 'U'], [9, 'D'], [9, 'D'], [9, 'S'], [9, 'U'], [9, 'U'], [10, 'U'], [11, 'U'], [12, 'D'], [12, 'S'], [12, 'U'], [13, 'U'], [13, 'U'], [13, 'U']]\n",
      "[[0, 'H'], [1, 'D'], [2, 'U'], [3, 'U'], [4, 'U'], [5, 'D'], [5, 'U'], [6, 'U'], [7, 'U'], [8, 'U'], [8, 'U'], [9, 'U'], [9, 'U'], [10, 'D'], [10, 'S'], [10, 'D'], [10, 'U'], [11, 'U'], [12, 'U'], [13, 'D'], [13, 'S'], [13, 'U'], [13, 'U'], [14, 'D']]\n",
      "[[0, 'H'], [1, 'U'], [2, 'U'], [3, 'D'], [4, 'U'], [5, 'U'], [6, 'D'], [6, 'D'], [7, 'U'], [8, 'U'], [9, 'D'], [9, 'U'], [9, 'U'], [10, 'U'], [11, 'D'], [11, 'S'], [11, 'S'], [11, 'U'], [12, 'U'], [13, 'U'], [14, 'D'], [14, 'S'], [14, 'S'], [14, 'U']]\n",
      "[[0, 'H'], [1, 'U'], [2, 'U'], [3, 'U'], [4, 'U'], [5, 'U'], [6, 'U'], [6, 'U'], [7, 'D'], [8, 'U'], [9, 'U'], [9, 'U'], [9, 'U'], [10, 'U'], [11, 'U'], [11, 'U'], [12, 'D'], [12, 'D'], [12, 'U'], [13, 'U'], [14, 'U'], [15, 'D'], [15, 'D'], [15, 'S']]\n",
      "[[0, 'H'], [1, 'U'], [2, 'U'], [3, 'U'], [4, 'U'], [5, 'U'], [6, 'U'], [6, 'U'], [7, 'D'], [8, 'U'], [9, 'U'], [9, 'U'], [9, 'U'], [10, 'U'], [11, 'U'], [11, 'U'], [12, 'D'], [13, 'D'], [13, 'S'], [13, 'U'], [14, 'U'], [15, 'D'], [16, 'D'], [16, 'S']]\n"
     ]
    }
   ],
   "source": [
    "lcs()\n",
    "for q in dp:\n",
    "    print(q)"
   ]
  },
  {
   "cell_type": "code",
   "execution_count": 5,
   "id": "b4e37fdc",
   "metadata": {},
   "outputs": [],
   "source": [
    "count = dp[n-1][m-1][0]"
   ]
  },
  {
   "cell_type": "code",
   "execution_count": 6,
   "id": "397d30c5",
   "metadata": {},
   "outputs": [],
   "source": [
    "def f(dp,i,j):\n",
    "    if(dp[i][j][1] == 'H'):\n",
    "        return;\n",
    "    elif(dp[i][j][1] == 'D'):\n",
    "        print(str1[i-1]);\n",
    "        f(dp,i-1,j-1)\n",
    "    elif(dp[i][j][1] == 'U'):\n",
    "        f(dp,i-1,j)\n",
    "    elif(dp[i][j][1] == 'S'):\n",
    "        f(dp,i,j-1)"
   ]
  },
  {
   "cell_type": "code",
   "execution_count": 7,
   "id": "1ac58458",
   "metadata": {},
   "outputs": [
    {
     "name": "stdout",
     "output_type": "stream",
     "text": [
      "LCS is :\n",
      "T\n",
      "T\n",
      "C\n",
      "G\n",
      "A\n",
      "T\n",
      "T\n",
      "G\n",
      "G\n",
      "A\n",
      "A\n",
      "C\n",
      "C\n",
      "C\n",
      "G\n",
      "A\n"
     ]
    }
   ],
   "source": [
    "print(\"LCS is :\")\n",
    "f(dp,n-1,m-1)"
   ]
  },
  {
   "cell_type": "code",
   "execution_count": 8,
   "id": "b3ef5375",
   "metadata": {},
   "outputs": [
    {
     "name": "stdout",
     "output_type": "stream",
     "text": [
      "Length of LCS is 16\n"
     ]
    }
   ],
   "source": [
    "print(f\"Length of LCS is {count}\")"
   ]
  },
  {
   "cell_type": "code",
   "execution_count": null,
   "id": "7d7fa756",
   "metadata": {},
   "outputs": [],
   "source": []
  },
  {
   "cell_type": "code",
   "execution_count": null,
   "id": "7fa74dcc",
   "metadata": {},
   "outputs": [],
   "source": []
  }
 ],
 "metadata": {
  "kernelspec": {
   "display_name": "Python 3 (ipykernel)",
   "language": "python",
   "name": "python3"
  },
  "language_info": {
   "codemirror_mode": {
    "name": "ipython",
    "version": 3
   },
   "file_extension": ".py",
   "mimetype": "text/x-python",
   "name": "python",
   "nbconvert_exporter": "python",
   "pygments_lexer": "ipython3",
   "version": "3.11.4"
  }
 },
 "nbformat": 4,
 "nbformat_minor": 5
}
